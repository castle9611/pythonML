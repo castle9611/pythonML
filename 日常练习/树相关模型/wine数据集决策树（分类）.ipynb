{
 "cells": [
  {
   "cell_type": "code",
   "execution_count": 1,
   "metadata": {
    "ExecuteTime": {
     "end_time": "2020-12-14T06:49:04.615435Z",
     "start_time": "2020-12-14T06:49:00.472129Z"
    },
    "executionInfo": {
     "elapsed": 1385,
     "status": "ok",
     "timestamp": 1607346606115,
     "user": {
      "displayName": "Castle Liu",
      "photoUrl": "https://lh3.googleusercontent.com/a-/AOh14Gi9EHhzFUj43XLvQlEbGdY8KsC-pP9Ibl2vZfk8Ig=s64",
      "userId": "09244105118355585486"
     },
     "user_tz": -480
    },
    "id": "oM9AvoFHSsRq"
   },
   "outputs": [],
   "source": [
    "from sklearn.datasets import load_wine "
   ]
  },
  {
   "cell_type": "code",
   "execution_count": 2,
   "metadata": {
    "ExecuteTime": {
     "end_time": "2020-12-14T06:49:05.893415Z",
     "start_time": "2020-12-14T06:49:04.618423Z"
    },
    "executionInfo": {
     "elapsed": 1537,
     "status": "ok",
     "timestamp": 1607346606733,
     "user": {
      "displayName": "Castle Liu",
      "photoUrl": "https://lh3.googleusercontent.com/a-/AOh14Gi9EHhzFUj43XLvQlEbGdY8KsC-pP9Ibl2vZfk8Ig=s64",
      "userId": "09244105118355585486"
     },
     "user_tz": -480
    },
    "id": "etejWn4iS58b"
   },
   "outputs": [],
   "source": [
    "import pandas as pd"
   ]
  },
  {
   "cell_type": "code",
   "execution_count": 3,
   "metadata": {
    "ExecuteTime": {
     "end_time": "2020-12-14T06:49:05.925334Z",
     "start_time": "2020-12-14T06:49:05.904395Z"
    },
    "executionInfo": {
     "elapsed": 1211,
     "status": "ok",
     "timestamp": 1607346606735,
     "user": {
      "displayName": "Castle Liu",
      "photoUrl": "https://lh3.googleusercontent.com/a-/AOh14Gi9EHhzFUj43XLvQlEbGdY8KsC-pP9Ibl2vZfk8Ig=s64",
      "userId": "09244105118355585486"
     },
     "user_tz": -480
    },
    "id": "DagclqB9TSmj"
   },
   "outputs": [],
   "source": [
    "import numpy as np"
   ]
  },
  {
   "cell_type": "code",
   "execution_count": 4,
   "metadata": {
    "ExecuteTime": {
     "end_time": "2020-12-14T06:49:06.002260Z",
     "start_time": "2020-12-14T06:49:05.945293Z"
    },
    "executionInfo": {
     "elapsed": 2480,
     "status": "ok",
     "timestamp": 1607346754819,
     "user": {
      "displayName": "Castle Liu",
      "photoUrl": "https://lh3.googleusercontent.com/a-/AOh14Gi9EHhzFUj43XLvQlEbGdY8KsC-pP9Ibl2vZfk8Ig=s64",
      "userId": "09244105118355585486"
     },
     "user_tz": -480
    },
    "id": "kVupyYb3UFFA"
   },
   "outputs": [],
   "source": [
    "wines = load_wine()"
   ]
  },
  {
   "cell_type": "code",
   "execution_count": 5,
   "metadata": {
    "ExecuteTime": {
     "end_time": "2020-12-14T06:49:06.034171Z",
     "start_time": "2020-12-14T06:49:06.007245Z"
    },
    "colab": {
     "base_uri": "https://localhost:8080/"
    },
    "executionInfo": {
     "elapsed": 1464,
     "status": "ok",
     "timestamp": 1607346755380,
     "user": {
      "displayName": "Castle Liu",
      "photoUrl": "https://lh3.googleusercontent.com/a-/AOh14Gi9EHhzFUj43XLvQlEbGdY8KsC-pP9Ibl2vZfk8Ig=s64",
      "userId": "09244105118355585486"
     },
     "user_tz": -480
    },
    "id": "FYhTHcuMURjI",
    "outputId": "13e21ea0-1176-4f1f-b822-3a47a7f33f74"
   },
   "outputs": [
    {
     "data": {
      "text/plain": [
       "sklearn.utils.Bunch"
      ]
     },
     "execution_count": 5,
     "metadata": {},
     "output_type": "execute_result"
    }
   ],
   "source": [
    "type(wines)"
   ]
  },
  {
   "cell_type": "code",
   "execution_count": 6,
   "metadata": {
    "ExecuteTime": {
     "end_time": "2020-12-14T06:49:06.050130Z",
     "start_time": "2020-12-14T06:49:06.036165Z"
    },
    "executionInfo": {
     "elapsed": 1401,
     "status": "ok",
     "timestamp": 1607347220211,
     "user": {
      "displayName": "Castle Liu",
      "photoUrl": "https://lh3.googleusercontent.com/a-/AOh14Gi9EHhzFUj43XLvQlEbGdY8KsC-pP9Ibl2vZfk8Ig=s64",
      "userId": "09244105118355585486"
     },
     "user_tz": -480
    },
    "id": "6YoF95TQU4gV"
   },
   "outputs": [],
   "source": [
    "X = wines.data"
   ]
  },
  {
   "cell_type": "code",
   "execution_count": 7,
   "metadata": {
    "ExecuteTime": {
     "end_time": "2020-12-14T06:49:06.066095Z",
     "start_time": "2020-12-14T06:49:06.056117Z"
    },
    "executionInfo": {
     "elapsed": 831,
     "status": "ok",
     "timestamp": 1607347220214,
     "user": {
      "displayName": "Castle Liu",
      "photoUrl": "https://lh3.googleusercontent.com/a-/AOh14Gi9EHhzFUj43XLvQlEbGdY8KsC-pP9Ibl2vZfk8Ig=s64",
      "userId": "09244105118355585486"
     },
     "user_tz": -480
    },
    "id": "VaEaVhMdVTLE"
   },
   "outputs": [],
   "source": [
    "y = wines.target"
   ]
  },
  {
   "cell_type": "code",
   "execution_count": 8,
   "metadata": {
    "ExecuteTime": {
     "end_time": "2020-12-14T06:49:06.098002Z",
     "start_time": "2020-12-14T06:49:06.075063Z"
    },
    "colab": {
     "base_uri": "https://localhost:8080/"
    },
    "executionInfo": {
     "elapsed": 1091,
     "status": "ok",
     "timestamp": 1607347222041,
     "user": {
      "displayName": "Castle Liu",
      "photoUrl": "https://lh3.googleusercontent.com/a-/AOh14Gi9EHhzFUj43XLvQlEbGdY8KsC-pP9Ibl2vZfk8Ig=s64",
      "userId": "09244105118355585486"
     },
     "user_tz": -480
    },
    "id": "zi9zW1CnVWhl",
    "outputId": "c0a8cd31-101c-4495-a5bb-f24f91ee8228"
   },
   "outputs": [
    {
     "data": {
      "text/plain": [
       "['alcohol',\n",
       " 'malic_acid',\n",
       " 'ash',\n",
       " 'alcalinity_of_ash',\n",
       " 'magnesium',\n",
       " 'total_phenols',\n",
       " 'flavanoids',\n",
       " 'nonflavanoid_phenols',\n",
       " 'proanthocyanins',\n",
       " 'color_intensity',\n",
       " 'hue',\n",
       " 'od280/od315_of_diluted_wines',\n",
       " 'proline']"
      ]
     },
     "execution_count": 8,
     "metadata": {},
     "output_type": "execute_result"
    }
   ],
   "source": [
    "wines.feature_names"
   ]
  },
  {
   "cell_type": "code",
   "execution_count": 9,
   "metadata": {
    "ExecuteTime": {
     "end_time": "2020-12-14T06:49:06.129915Z",
     "start_time": "2020-12-14T06:49:06.103985Z"
    },
    "colab": {
     "base_uri": "https://localhost:8080/"
    },
    "executionInfo": {
     "elapsed": 836,
     "status": "ok",
     "timestamp": 1607347222794,
     "user": {
      "displayName": "Castle Liu",
      "photoUrl": "https://lh3.googleusercontent.com/a-/AOh14Gi9EHhzFUj43XLvQlEbGdY8KsC-pP9Ibl2vZfk8Ig=s64",
      "userId": "09244105118355585486"
     },
     "user_tz": -480
    },
    "id": "nXxzIdKaVZ6f",
    "outputId": "92a43089-a779-4269-d47a-08d3ed182e2e"
   },
   "outputs": [
    {
     "data": {
      "text/plain": [
       "array(['class_0', 'class_1', 'class_2'], dtype='<U7')"
      ]
     },
     "execution_count": 9,
     "metadata": {},
     "output_type": "execute_result"
    }
   ],
   "source": [
    "wines.target_names"
   ]
  },
  {
   "cell_type": "code",
   "execution_count": 10,
   "metadata": {
    "ExecuteTime": {
     "end_time": "2020-12-14T06:49:06.272498Z",
     "start_time": "2020-12-14T06:49:06.136897Z"
    },
    "executionInfo": {
     "elapsed": 1184,
     "status": "ok",
     "timestamp": 1607347224773,
     "user": {
      "displayName": "Castle Liu",
      "photoUrl": "https://lh3.googleusercontent.com/a-/AOh14Gi9EHhzFUj43XLvQlEbGdY8KsC-pP9Ibl2vZfk8Ig=s64",
      "userId": "09244105118355585486"
     },
     "user_tz": -480
    },
    "id": "yeFvYrN_WiZ5"
   },
   "outputs": [],
   "source": [
    "from sklearn.model_selection import train_test_split\n",
    "X_train,X_test,y_train,y_test = train_test_split(X,y,test_size=0.2,random_state=0)"
   ]
  },
  {
   "cell_type": "code",
   "execution_count": 11,
   "metadata": {
    "ExecuteTime": {
     "end_time": "2020-12-14T06:49:06.774139Z",
     "start_time": "2020-12-14T06:49:06.282479Z"
    },
    "colab": {
     "base_uri": "https://localhost:8080/"
    },
    "executionInfo": {
     "elapsed": 2384,
     "status": "ok",
     "timestamp": 1607347976632,
     "user": {
      "displayName": "Castle Liu",
      "photoUrl": "https://lh3.googleusercontent.com/a-/AOh14Gi9EHhzFUj43XLvQlEbGdY8KsC-pP9Ibl2vZfk8Ig=s64",
      "userId": "09244105118355585486"
     },
     "user_tz": -480
    },
    "id": "PMQ9ZtYkVjYw",
    "outputId": "98e7ef3c-0cd9-42ae-fc6a-b35da50ddf14"
   },
   "outputs": [
    {
     "data": {
      "text/plain": [
       "DecisionTreeClassifier()"
      ]
     },
     "execution_count": 11,
     "metadata": {},
     "output_type": "execute_result"
    }
   ],
   "source": [
    "from sklearn.tree import DecisionTreeClassifier as DT\n",
    "from sklearn import tree\n",
    "clf = DT()\n",
    "clf.fit(X_train,y_train)\n"
   ]
  },
  {
   "cell_type": "code",
   "execution_count": 12,
   "metadata": {
    "ExecuteTime": {
     "end_time": "2020-12-14T06:49:06.806055Z",
     "start_time": "2020-12-14T06:49:06.778132Z"
    },
    "colab": {
     "base_uri": "https://localhost:8080/"
    },
    "executionInfo": {
     "elapsed": 1239,
     "status": "ok",
     "timestamp": 1607347768248,
     "user": {
      "displayName": "Castle Liu",
      "photoUrl": "https://lh3.googleusercontent.com/a-/AOh14Gi9EHhzFUj43XLvQlEbGdY8KsC-pP9Ibl2vZfk8Ig=s64",
      "userId": "09244105118355585486"
     },
     "user_tz": -480
    },
    "id": "hJbRTK89VpdB",
    "outputId": "6157b39f-e843-43d3-b7ac-aa7b48a25545"
   },
   "outputs": [
    {
     "data": {
      "text/plain": [
       "array([0, 2, 1, 0, 1, 1, 0, 2, 1, 1, 2, 2, 0, 1, 2, 1, 0, 0, 1, 0, 0, 0,\n",
       "       0, 1, 1, 1, 1, 1, 1, 2, 0, 0, 1, 0, 0, 0])"
      ]
     },
     "execution_count": 12,
     "metadata": {},
     "output_type": "execute_result"
    }
   ],
   "source": [
    "clf.predict(X_test)"
   ]
  },
  {
   "cell_type": "code",
   "execution_count": 13,
   "metadata": {
    "ExecuteTime": {
     "end_time": "2020-12-14T06:49:06.822011Z",
     "start_time": "2020-12-14T06:49:06.810047Z"
    },
    "colab": {
     "base_uri": "https://localhost:8080/"
    },
    "executionInfo": {
     "elapsed": 1414,
     "status": "ok",
     "timestamp": 1607347768764,
     "user": {
      "displayName": "Castle Liu",
      "photoUrl": "https://lh3.googleusercontent.com/a-/AOh14Gi9EHhzFUj43XLvQlEbGdY8KsC-pP9Ibl2vZfk8Ig=s64",
      "userId": "09244105118355585486"
     },
     "user_tz": -480
    },
    "id": "HKSCkSvqXFuG",
    "outputId": "eaa556f2-a2b8-4d08-a3b0-b4deb653f7d0"
   },
   "outputs": [
    {
     "data": {
      "text/plain": [
       "0.9722222222222222"
      ]
     },
     "execution_count": 13,
     "metadata": {},
     "output_type": "execute_result"
    }
   ],
   "source": [
    "clf.score(X_test,y_test)"
   ]
  },
  {
   "cell_type": "code",
   "execution_count": 14,
   "metadata": {
    "ExecuteTime": {
     "end_time": "2020-12-14T06:49:06.854938Z",
     "start_time": "2020-12-14T06:49:06.826003Z"
    },
    "executionInfo": {
     "elapsed": 1566,
     "status": "ok",
     "timestamp": 1607347927230,
     "user": {
      "displayName": "Castle Liu",
      "photoUrl": "https://lh3.googleusercontent.com/a-/AOh14Gi9EHhzFUj43XLvQlEbGdY8KsC-pP9Ibl2vZfk8Ig=s64",
      "userId": "09244105118355585486"
     },
     "user_tz": -480
    },
    "id": "j4QMv_VeYMGF"
   },
   "outputs": [],
   "source": [
    "import graphviz"
   ]
  },
  {
   "cell_type": "code",
   "execution_count": 17,
   "metadata": {
    "ExecuteTime": {
     "end_time": "2020-12-14T07:08:07.593526Z",
     "start_time": "2020-12-14T07:08:07.388966Z"
    },
    "colab": {
     "base_uri": "https://localhost:8080/",
     "height": 757
    },
    "executionInfo": {
     "elapsed": 1209,
     "status": "ok",
     "timestamp": 1607348023105,
     "user": {
      "displayName": "Castle Liu",
      "photoUrl": "https://lh3.googleusercontent.com/a-/AOh14Gi9EHhzFUj43XLvQlEbGdY8KsC-pP9Ibl2vZfk8Ig=s64",
      "userId": "09244105118355585486"
     },
     "user_tz": -480
    },
    "id": "gTkmplf1Xmsl",
    "outputId": "0e169e80-7fc7-48a2-fb66-99a9391a8955"
   },
   "outputs": [
    {
     "data": {
      "image/svg+xml": [
       "<?xml version=\"1.0\" encoding=\"UTF-8\" standalone=\"no\"?>\r\n",
       "<!DOCTYPE svg PUBLIC \"-//W3C//DTD SVG 1.1//EN\"\r\n",
       " \"http://www.w3.org/Graphics/SVG/1.1/DTD/svg11.dtd\">\r\n",
       "<!-- Generated by graphviz version 2.44.1 (20200629.0846)\r\n",
       " -->\r\n",
       "<!-- Title: Tree Pages: 1 -->\r\n",
       "<svg width=\"622pt\" height=\"552pt\"\r\n",
       " viewBox=\"0.00 0.00 621.50 552.00\" xmlns=\"http://www.w3.org/2000/svg\" xmlns:xlink=\"http://www.w3.org/1999/xlink\">\r\n",
       "<g id=\"graph0\" class=\"graph\" transform=\"scale(1 1) rotate(0) translate(4 548)\">\r\n",
       "<title>Tree</title>\r\n",
       "<polygon fill=\"white\" stroke=\"transparent\" points=\"-4,4 -4,-548 617.5,-548 617.5,4 -4,4\"/>\r\n",
       "<!-- 0 -->\r\n",
       "<g id=\"node1\" class=\"node\">\r\n",
       "<title>0</title>\r\n",
       "<path fill=\"#ebfcf2\" stroke=\"black\" d=\"M334,-544C334,-544 220,-544 220,-544 214,-544 208,-538 208,-532 208,-532 208,-473 208,-473 208,-467 214,-461 220,-461 220,-461 334,-461 334,-461 340,-461 346,-467 346,-473 346,-473 346,-532 346,-532 346,-538 340,-544 334,-544\"/>\r\n",
       "<text text-anchor=\"middle\" x=\"277\" y=\"-528.8\" font-family=\"Helvetica,sans-Serif\" font-size=\"14.00\">颜色强度 &lt;= 3.46</text>\r\n",
       "<text text-anchor=\"middle\" x=\"277\" y=\"-513.8\" font-family=\"Helvetica,sans-Serif\" font-size=\"14.00\">gini = 0.662</text>\r\n",
       "<text text-anchor=\"middle\" x=\"277\" y=\"-498.8\" font-family=\"Helvetica,sans-Serif\" font-size=\"14.00\">samples = 142</text>\r\n",
       "<text text-anchor=\"middle\" x=\"277\" y=\"-483.8\" font-family=\"Helvetica,sans-Serif\" font-size=\"14.00\">value = [45, 55, 42]</text>\r\n",
       "<text text-anchor=\"middle\" x=\"277\" y=\"-468.8\" font-family=\"Helvetica,sans-Serif\" font-size=\"14.00\">class = 雪莉</text>\r\n",
       "</g>\r\n",
       "<!-- 1 -->\r\n",
       "<g id=\"node2\" class=\"node\">\r\n",
       "<title>1</title>\r\n",
       "<path fill=\"#39e581\" stroke=\"black\" d=\"M254.5,-417.5C254.5,-417.5 157.5,-417.5 157.5,-417.5 151.5,-417.5 145.5,-411.5 145.5,-405.5 145.5,-405.5 145.5,-361.5 145.5,-361.5 145.5,-355.5 151.5,-349.5 157.5,-349.5 157.5,-349.5 254.5,-349.5 254.5,-349.5 260.5,-349.5 266.5,-355.5 266.5,-361.5 266.5,-361.5 266.5,-405.5 266.5,-405.5 266.5,-411.5 260.5,-417.5 254.5,-417.5\"/>\r\n",
       "<text text-anchor=\"middle\" x=\"206\" y=\"-402.3\" font-family=\"Helvetica,sans-Serif\" font-size=\"14.00\">gini = 0.0</text>\r\n",
       "<text text-anchor=\"middle\" x=\"206\" y=\"-387.3\" font-family=\"Helvetica,sans-Serif\" font-size=\"14.00\">samples = 46</text>\r\n",
       "<text text-anchor=\"middle\" x=\"206\" y=\"-372.3\" font-family=\"Helvetica,sans-Serif\" font-size=\"14.00\">value = [0, 46, 0]</text>\r\n",
       "<text text-anchor=\"middle\" x=\"206\" y=\"-357.3\" font-family=\"Helvetica,sans-Serif\" font-size=\"14.00\">class = 雪莉</text>\r\n",
       "</g>\r\n",
       "<!-- 0&#45;&gt;1 -->\r\n",
       "<g id=\"edge1\" class=\"edge\">\r\n",
       "<title>0&#45;&gt;1</title>\r\n",
       "<path fill=\"none\" stroke=\"black\" d=\"M252.37,-460.91C245.6,-449.76 238.26,-437.66 231.45,-426.44\"/>\r\n",
       "<polygon fill=\"black\" stroke=\"black\" points=\"234.31,-424.4 226.13,-417.67 228.32,-428.03 234.31,-424.4\"/>\r\n",
       "<text text-anchor=\"middle\" x=\"220.19\" y=\"-438.25\" font-family=\"Helvetica,sans-Serif\" font-size=\"14.00\">True</text>\r\n",
       "</g>\r\n",
       "<!-- 2 -->\r\n",
       "<g id=\"node3\" class=\"node\">\r\n",
       "<title>2</title>\r\n",
       "<path fill=\"#fef8f4\" stroke=\"black\" d=\"M401.5,-425C401.5,-425 296.5,-425 296.5,-425 290.5,-425 284.5,-419 284.5,-413 284.5,-413 284.5,-354 284.5,-354 284.5,-348 290.5,-342 296.5,-342 296.5,-342 401.5,-342 401.5,-342 407.5,-342 413.5,-348 413.5,-354 413.5,-354 413.5,-413 413.5,-413 413.5,-419 407.5,-425 401.5,-425\"/>\r\n",
       "<text text-anchor=\"middle\" x=\"349\" y=\"-409.8\" font-family=\"Helvetica,sans-Serif\" font-size=\"14.00\">类黄酮 &lt;= 2.11</text>\r\n",
       "<text text-anchor=\"middle\" x=\"349\" y=\"-394.8\" font-family=\"Helvetica,sans-Serif\" font-size=\"14.00\">gini = 0.58</text>\r\n",
       "<text text-anchor=\"middle\" x=\"349\" y=\"-379.8\" font-family=\"Helvetica,sans-Serif\" font-size=\"14.00\">samples = 96</text>\r\n",
       "<text text-anchor=\"middle\" x=\"349\" y=\"-364.8\" font-family=\"Helvetica,sans-Serif\" font-size=\"14.00\">value = [45, 9, 42]</text>\r\n",
       "<text text-anchor=\"middle\" x=\"349\" y=\"-349.8\" font-family=\"Helvetica,sans-Serif\" font-size=\"14.00\">class = 琴酒</text>\r\n",
       "</g>\r\n",
       "<!-- 0&#45;&gt;2 -->\r\n",
       "<g id=\"edge2\" class=\"edge\">\r\n",
       "<title>0&#45;&gt;2</title>\r\n",
       "<path fill=\"none\" stroke=\"black\" d=\"M301.98,-460.91C307.4,-452.1 313.18,-442.7 318.78,-433.61\"/>\r\n",
       "<polygon fill=\"black\" stroke=\"black\" points=\"321.8,-435.37 324.06,-425.02 315.84,-431.7 321.8,-435.37\"/>\r\n",
       "<text text-anchor=\"middle\" x=\"329.85\" y=\"-445.64\" font-family=\"Helvetica,sans-Serif\" font-size=\"14.00\">False</text>\r\n",
       "</g>\r\n",
       "<!-- 3 -->\r\n",
       "<g id=\"node4\" class=\"node\">\r\n",
       "<title>3</title>\r\n",
       "<path fill=\"#965ae9\" stroke=\"black\" d=\"M331,-306C331,-306 221,-306 221,-306 215,-306 209,-300 209,-294 209,-294 209,-235 209,-235 209,-229 215,-223 221,-223 221,-223 331,-223 331,-223 337,-223 343,-229 343,-235 343,-235 343,-294 343,-294 343,-300 337,-306 331,-306\"/>\r\n",
       "<text text-anchor=\"middle\" x=\"276\" y=\"-290.8\" font-family=\"Helvetica,sans-Serif\" font-size=\"14.00\">色调 &lt;= 0.97</text>\r\n",
       "<text text-anchor=\"middle\" x=\"276\" y=\"-275.8\" font-family=\"Helvetica,sans-Serif\" font-size=\"14.00\">gini = 0.245</text>\r\n",
       "<text text-anchor=\"middle\" x=\"276\" y=\"-260.8\" font-family=\"Helvetica,sans-Serif\" font-size=\"14.00\">samples = 49</text>\r\n",
       "<text text-anchor=\"middle\" x=\"276\" y=\"-245.8\" font-family=\"Helvetica,sans-Serif\" font-size=\"14.00\">value = [0, 7, 42]</text>\r\n",
       "<text text-anchor=\"middle\" x=\"276\" y=\"-230.8\" font-family=\"Helvetica,sans-Serif\" font-size=\"14.00\">class = 贝尔摩德</text>\r\n",
       "</g>\r\n",
       "<!-- 2&#45;&gt;3 -->\r\n",
       "<g id=\"edge3\" class=\"edge\">\r\n",
       "<title>2&#45;&gt;3</title>\r\n",
       "<path fill=\"none\" stroke=\"black\" d=\"M323.67,-341.91C318.18,-333.1 312.31,-323.7 306.64,-314.61\"/>\r\n",
       "<polygon fill=\"black\" stroke=\"black\" points=\"309.55,-312.65 301.28,-306.02 303.61,-316.36 309.55,-312.65\"/>\r\n",
       "</g>\r\n",
       "<!-- 8 -->\r\n",
       "<g id=\"node9\" class=\"node\">\r\n",
       "<title>8</title>\r\n",
       "<path fill=\"#e68742\" stroke=\"black\" d=\"M470.5,-306C470.5,-306 373.5,-306 373.5,-306 367.5,-306 361.5,-300 361.5,-294 361.5,-294 361.5,-235 361.5,-235 361.5,-229 367.5,-223 373.5,-223 373.5,-223 470.5,-223 470.5,-223 476.5,-223 482.5,-229 482.5,-235 482.5,-235 482.5,-294 482.5,-294 482.5,-300 476.5,-306 470.5,-306\"/>\r\n",
       "<text text-anchor=\"middle\" x=\"422\" y=\"-290.8\" font-family=\"Helvetica,sans-Serif\" font-size=\"14.00\">酒精 &lt;= 12.785</text>\r\n",
       "<text text-anchor=\"middle\" x=\"422\" y=\"-275.8\" font-family=\"Helvetica,sans-Serif\" font-size=\"14.00\">gini = 0.081</text>\r\n",
       "<text text-anchor=\"middle\" x=\"422\" y=\"-260.8\" font-family=\"Helvetica,sans-Serif\" font-size=\"14.00\">samples = 47</text>\r\n",
       "<text text-anchor=\"middle\" x=\"422\" y=\"-245.8\" font-family=\"Helvetica,sans-Serif\" font-size=\"14.00\">value = [45, 2, 0]</text>\r\n",
       "<text text-anchor=\"middle\" x=\"422\" y=\"-230.8\" font-family=\"Helvetica,sans-Serif\" font-size=\"14.00\">class = 琴酒</text>\r\n",
       "</g>\r\n",
       "<!-- 2&#45;&gt;8 -->\r\n",
       "<g id=\"edge8\" class=\"edge\">\r\n",
       "<title>2&#45;&gt;8</title>\r\n",
       "<path fill=\"none\" stroke=\"black\" d=\"M374.33,-341.91C379.82,-333.1 385.69,-323.7 391.36,-314.61\"/>\r\n",
       "<polygon fill=\"black\" stroke=\"black\" points=\"394.39,-316.36 396.72,-306.02 388.45,-312.65 394.39,-316.36\"/>\r\n",
       "</g>\r\n",
       "<!-- 4 -->\r\n",
       "<g id=\"node5\" class=\"node\">\r\n",
       "<title>4</title>\r\n",
       "<path fill=\"#843ee6\" stroke=\"black\" d=\"M193,-187C193,-187 83,-187 83,-187 77,-187 71,-181 71,-175 71,-175 71,-116 71,-116 71,-110 77,-104 83,-104 83,-104 193,-104 193,-104 199,-104 205,-110 205,-116 205,-116 205,-175 205,-175 205,-181 199,-187 193,-187\"/>\r\n",
       "<text text-anchor=\"middle\" x=\"138\" y=\"-171.8\" font-family=\"Helvetica,sans-Serif\" font-size=\"14.00\">类黄酮 &lt;= 1.58</text>\r\n",
       "<text text-anchor=\"middle\" x=\"138\" y=\"-156.8\" font-family=\"Helvetica,sans-Serif\" font-size=\"14.00\">gini = 0.045</text>\r\n",
       "<text text-anchor=\"middle\" x=\"138\" y=\"-141.8\" font-family=\"Helvetica,sans-Serif\" font-size=\"14.00\">samples = 43</text>\r\n",
       "<text text-anchor=\"middle\" x=\"138\" y=\"-126.8\" font-family=\"Helvetica,sans-Serif\" font-size=\"14.00\">value = [0, 1, 42]</text>\r\n",
       "<text text-anchor=\"middle\" x=\"138\" y=\"-111.8\" font-family=\"Helvetica,sans-Serif\" font-size=\"14.00\">class = 贝尔摩德</text>\r\n",
       "</g>\r\n",
       "<!-- 3&#45;&gt;4 -->\r\n",
       "<g id=\"edge4\" class=\"edge\">\r\n",
       "<title>3&#45;&gt;4</title>\r\n",
       "<path fill=\"none\" stroke=\"black\" d=\"M228.12,-222.91C216.99,-213.47 205.05,-203.34 193.61,-193.65\"/>\r\n",
       "<polygon fill=\"black\" stroke=\"black\" points=\"195.68,-190.82 185.79,-187.02 191.16,-196.16 195.68,-190.82\"/>\r\n",
       "</g>\r\n",
       "<!-- 7 -->\r\n",
       "<g id=\"node8\" class=\"node\">\r\n",
       "<title>7</title>\r\n",
       "<path fill=\"#39e581\" stroke=\"black\" d=\"M324.5,-179.5C324.5,-179.5 235.5,-179.5 235.5,-179.5 229.5,-179.5 223.5,-173.5 223.5,-167.5 223.5,-167.5 223.5,-123.5 223.5,-123.5 223.5,-117.5 229.5,-111.5 235.5,-111.5 235.5,-111.5 324.5,-111.5 324.5,-111.5 330.5,-111.5 336.5,-117.5 336.5,-123.5 336.5,-123.5 336.5,-167.5 336.5,-167.5 336.5,-173.5 330.5,-179.5 324.5,-179.5\"/>\r\n",
       "<text text-anchor=\"middle\" x=\"280\" y=\"-164.3\" font-family=\"Helvetica,sans-Serif\" font-size=\"14.00\">gini = 0.0</text>\r\n",
       "<text text-anchor=\"middle\" x=\"280\" y=\"-149.3\" font-family=\"Helvetica,sans-Serif\" font-size=\"14.00\">samples = 6</text>\r\n",
       "<text text-anchor=\"middle\" x=\"280\" y=\"-134.3\" font-family=\"Helvetica,sans-Serif\" font-size=\"14.00\">value = [0, 6, 0]</text>\r\n",
       "<text text-anchor=\"middle\" x=\"280\" y=\"-119.3\" font-family=\"Helvetica,sans-Serif\" font-size=\"14.00\">class = 雪莉</text>\r\n",
       "</g>\r\n",
       "<!-- 3&#45;&gt;7 -->\r\n",
       "<g id=\"edge7\" class=\"edge\">\r\n",
       "<title>3&#45;&gt;7</title>\r\n",
       "<path fill=\"none\" stroke=\"black\" d=\"M277.39,-222.91C277.75,-212.2 278.15,-200.62 278.52,-189.78\"/>\r\n",
       "<polygon fill=\"black\" stroke=\"black\" points=\"282.02,-189.78 278.87,-179.67 275.03,-189.54 282.02,-189.78\"/>\r\n",
       "</g>\r\n",
       "<!-- 5 -->\r\n",
       "<g id=\"node6\" class=\"node\">\r\n",
       "<title>5</title>\r\n",
       "<path fill=\"#8139e5\" stroke=\"black\" d=\"M122,-68C122,-68 12,-68 12,-68 6,-68 0,-62 0,-56 0,-56 0,-12 0,-12 0,-6 6,0 12,0 12,0 122,0 122,0 128,0 134,-6 134,-12 134,-12 134,-56 134,-56 134,-62 128,-68 122,-68\"/>\r\n",
       "<text text-anchor=\"middle\" x=\"67\" y=\"-52.8\" font-family=\"Helvetica,sans-Serif\" font-size=\"14.00\">gini = 0.0</text>\r\n",
       "<text text-anchor=\"middle\" x=\"67\" y=\"-37.8\" font-family=\"Helvetica,sans-Serif\" font-size=\"14.00\">samples = 42</text>\r\n",
       "<text text-anchor=\"middle\" x=\"67\" y=\"-22.8\" font-family=\"Helvetica,sans-Serif\" font-size=\"14.00\">value = [0, 0, 42]</text>\r\n",
       "<text text-anchor=\"middle\" x=\"67\" y=\"-7.8\" font-family=\"Helvetica,sans-Serif\" font-size=\"14.00\">class = 贝尔摩德</text>\r\n",
       "</g>\r\n",
       "<!-- 4&#45;&gt;5 -->\r\n",
       "<g id=\"edge5\" class=\"edge\">\r\n",
       "<title>4&#45;&gt;5</title>\r\n",
       "<path fill=\"none\" stroke=\"black\" d=\"M111.56,-103.73C105.88,-94.97 99.88,-85.7 94.17,-76.91\"/>\r\n",
       "<polygon fill=\"black\" stroke=\"black\" points=\"96.97,-74.79 88.59,-68.3 91.1,-78.59 96.97,-74.79\"/>\r\n",
       "</g>\r\n",
       "<!-- 6 -->\r\n",
       "<g id=\"node7\" class=\"node\">\r\n",
       "<title>6</title>\r\n",
       "<path fill=\"#39e581\" stroke=\"black\" d=\"M253.5,-68C253.5,-68 164.5,-68 164.5,-68 158.5,-68 152.5,-62 152.5,-56 152.5,-56 152.5,-12 152.5,-12 152.5,-6 158.5,0 164.5,0 164.5,0 253.5,0 253.5,0 259.5,0 265.5,-6 265.5,-12 265.5,-12 265.5,-56 265.5,-56 265.5,-62 259.5,-68 253.5,-68\"/>\r\n",
       "<text text-anchor=\"middle\" x=\"209\" y=\"-52.8\" font-family=\"Helvetica,sans-Serif\" font-size=\"14.00\">gini = 0.0</text>\r\n",
       "<text text-anchor=\"middle\" x=\"209\" y=\"-37.8\" font-family=\"Helvetica,sans-Serif\" font-size=\"14.00\">samples = 1</text>\r\n",
       "<text text-anchor=\"middle\" x=\"209\" y=\"-22.8\" font-family=\"Helvetica,sans-Serif\" font-size=\"14.00\">value = [0, 1, 0]</text>\r\n",
       "<text text-anchor=\"middle\" x=\"209\" y=\"-7.8\" font-family=\"Helvetica,sans-Serif\" font-size=\"14.00\">class = 雪莉</text>\r\n",
       "</g>\r\n",
       "<!-- 4&#45;&gt;6 -->\r\n",
       "<g id=\"edge6\" class=\"edge\">\r\n",
       "<title>4&#45;&gt;6</title>\r\n",
       "<path fill=\"none\" stroke=\"black\" d=\"M164.44,-103.73C170.12,-94.97 176.12,-85.7 181.83,-76.91\"/>\r\n",
       "<polygon fill=\"black\" stroke=\"black\" points=\"184.9,-78.59 187.41,-68.3 179.03,-74.79 184.9,-78.59\"/>\r\n",
       "</g>\r\n",
       "<!-- 9 -->\r\n",
       "<g id=\"node10\" class=\"node\">\r\n",
       "<title>9</title>\r\n",
       "<path fill=\"#39e581\" stroke=\"black\" d=\"M462.5,-179.5C462.5,-179.5 373.5,-179.5 373.5,-179.5 367.5,-179.5 361.5,-173.5 361.5,-167.5 361.5,-167.5 361.5,-123.5 361.5,-123.5 361.5,-117.5 367.5,-111.5 373.5,-111.5 373.5,-111.5 462.5,-111.5 462.5,-111.5 468.5,-111.5 474.5,-117.5 474.5,-123.5 474.5,-123.5 474.5,-167.5 474.5,-167.5 474.5,-173.5 468.5,-179.5 462.5,-179.5\"/>\r\n",
       "<text text-anchor=\"middle\" x=\"418\" y=\"-164.3\" font-family=\"Helvetica,sans-Serif\" font-size=\"14.00\">gini = 0.0</text>\r\n",
       "<text text-anchor=\"middle\" x=\"418\" y=\"-149.3\" font-family=\"Helvetica,sans-Serif\" font-size=\"14.00\">samples = 2</text>\r\n",
       "<text text-anchor=\"middle\" x=\"418\" y=\"-134.3\" font-family=\"Helvetica,sans-Serif\" font-size=\"14.00\">value = [0, 2, 0]</text>\r\n",
       "<text text-anchor=\"middle\" x=\"418\" y=\"-119.3\" font-family=\"Helvetica,sans-Serif\" font-size=\"14.00\">class = 雪莉</text>\r\n",
       "</g>\r\n",
       "<!-- 8&#45;&gt;9 -->\r\n",
       "<g id=\"edge9\" class=\"edge\">\r\n",
       "<title>8&#45;&gt;9</title>\r\n",
       "<path fill=\"none\" stroke=\"black\" d=\"M420.61,-222.91C420.25,-212.2 419.85,-200.62 419.48,-189.78\"/>\r\n",
       "<polygon fill=\"black\" stroke=\"black\" points=\"422.97,-189.54 419.13,-179.67 415.98,-189.78 422.97,-189.54\"/>\r\n",
       "</g>\r\n",
       "<!-- 10 -->\r\n",
       "<g id=\"node11\" class=\"node\">\r\n",
       "<title>10</title>\r\n",
       "<path fill=\"#e58139\" stroke=\"black\" d=\"M601.5,-179.5C601.5,-179.5 504.5,-179.5 504.5,-179.5 498.5,-179.5 492.5,-173.5 492.5,-167.5 492.5,-167.5 492.5,-123.5 492.5,-123.5 492.5,-117.5 498.5,-111.5 504.5,-111.5 504.5,-111.5 601.5,-111.5 601.5,-111.5 607.5,-111.5 613.5,-117.5 613.5,-123.5 613.5,-123.5 613.5,-167.5 613.5,-167.5 613.5,-173.5 607.5,-179.5 601.5,-179.5\"/>\r\n",
       "<text text-anchor=\"middle\" x=\"553\" y=\"-164.3\" font-family=\"Helvetica,sans-Serif\" font-size=\"14.00\">gini = 0.0</text>\r\n",
       "<text text-anchor=\"middle\" x=\"553\" y=\"-149.3\" font-family=\"Helvetica,sans-Serif\" font-size=\"14.00\">samples = 45</text>\r\n",
       "<text text-anchor=\"middle\" x=\"553\" y=\"-134.3\" font-family=\"Helvetica,sans-Serif\" font-size=\"14.00\">value = [45, 0, 0]</text>\r\n",
       "<text text-anchor=\"middle\" x=\"553\" y=\"-119.3\" font-family=\"Helvetica,sans-Serif\" font-size=\"14.00\">class = 琴酒</text>\r\n",
       "</g>\r\n",
       "<!-- 8&#45;&gt;10 -->\r\n",
       "<g id=\"edge10\" class=\"edge\">\r\n",
       "<title>8&#45;&gt;10</title>\r\n",
       "<path fill=\"none\" stroke=\"black\" d=\"M467.45,-222.91C480.67,-211.1 495.1,-198.22 508.27,-186.45\"/>\r\n",
       "<polygon fill=\"black\" stroke=\"black\" points=\"510.74,-188.94 515.86,-179.67 506.07,-183.72 510.74,-188.94\"/>\r\n",
       "</g>\r\n",
       "</g>\r\n",
       "</svg>\r\n"
      ],
      "text/plain": [
       "<graphviz.files.Source at 0x1d0c891a2e0>"
      ]
     },
     "execution_count": 17,
     "metadata": {},
     "output_type": "execute_result"
    }
   ],
   "source": [
    "dot_data = tree.export_graphviz(clf\n",
    "                                ,feature_names=['酒精','苹果酸','灰','灰的碱性','镁','总酚','类黄酮','非黄烷类酚类','花青素','颜色强度','色调','od280/od315稀释葡萄酒','脯氨酸']\n",
    "                                ,class_names=['琴酒','雪莉','贝尔摩德']\n",
    "                                ,filled=True\n",
    "                                ,rounded=True)\n",
    "graphviz.Source(dot_data)"
   ]
  },
  {
   "cell_type": "code",
   "execution_count": 20,
   "metadata": {
    "ExecuteTime": {
     "end_time": "2020-12-14T07:08:31.276554Z",
     "start_time": "2020-12-14T07:08:31.261965Z"
    },
    "executionInfo": {
     "elapsed": 1249,
     "status": "ok",
     "timestamp": 1607347769980,
     "user": {
      "displayName": "Castle Liu",
      "photoUrl": "https://lh3.googleusercontent.com/a-/AOh14Gi9EHhzFUj43XLvQlEbGdY8KsC-pP9Ibl2vZfk8Ig=s64",
      "userId": "09244105118355585486"
     },
     "user_tz": -480
    },
    "id": "oU--8cp8YdGK"
   },
   "outputs": [],
   "source": [
    "feature_names=['酒精','苹果酸','灰','灰的碱性','镁','总酚','类黄酮','非黄烷类酚类','花青素','颜色强度','色调','od280/od315稀释葡萄酒','脯氨酸']\n",
    "zip_res = zip(feature_names,clf.feature_importances_)"
   ]
  },
  {
   "cell_type": "code",
   "execution_count": 21,
   "metadata": {
    "ExecuteTime": {
     "end_time": "2020-12-14T07:08:31.308469Z",
     "start_time": "2020-12-14T07:08:31.300490Z"
    },
    "scrolled": true
   },
   "outputs": [
    {
     "data": {
      "text/plain": [
       "[(('酒精', 0.040736313650490096),),\n",
       " (('苹果酸', 0.0),),\n",
       " (('灰', 0.0),),\n",
       " (('灰的碱性', 0.0),),\n",
       " (('镁', 0.0),),\n",
       " (('总酚', 0.0),),\n",
       " (('类黄酮', 0.4447333754009863),),\n",
       " (('非黄烷类酚类', 0.0),),\n",
       " (('花青素', 0.0),),\n",
       " (('颜色强度', 0.40766853932584274),),\n",
       " (('色调', 0.10686177162268096),),\n",
       " (('od280/od315稀释葡萄酒', 0.0),),\n",
       " (('脯氨酸', 0.0),)]"
      ]
     },
     "execution_count": 21,
     "metadata": {},
     "output_type": "execute_result"
    }
   ],
   "source": [
    "[*zip(zip_res)]"
   ]
  },
  {
   "cell_type": "code",
   "execution_count": 22,
   "metadata": {
    "ExecuteTime": {
     "end_time": "2020-12-14T07:08:33.618966Z",
     "start_time": "2020-12-14T07:08:32.710109Z"
    }
   },
   "outputs": [
    {
     "data": {
      "image/png": "[encoded data removed]",
      "text/plain": [
       "<Figure size 432x288 with 1 Axes>"
      ]
     },
     "metadata": {
      "needs_background": "light"
     },
     "output_type": "display_data"
    }
   ],
   "source": [
    "# 对深度参数进行学习\n",
    "import matplotlib.pyplot as plt\n",
    "test = []\n",
    "for i in range(10):\n",
    "    clf = tree.DecisionTreeClassifier(max_depth=i+1\n",
    "                                    ,criterion=\"entropy\"\n",
    "                                    ,random_state=30\n",
    "                                    ,splitter=\"random\"\n",
    "                                    )\n",
    "    clf = clf.fit(X_train, y_train)\n",
    "    score = clf.score(X_test, y_test)\n",
    "    test.append(score)\n",
    "plt.plot(range(1,11),test,color=\"red\",label=\"max_depth\")\n",
    "plt.legend()\n",
    "plt.show()"
   ]
  },
  {
   "cell_type": "code",
   "execution_count": 23,
   "metadata": {
    "ExecuteTime": {
     "end_time": "2020-12-14T07:08:33.650889Z",
     "start_time": "2020-12-14T07:08:33.627943Z"
    }
   },
   "outputs": [
    {
     "data": {
      "text/plain": [
       "array([24,  7, 15, 24, 19, 15, 24,  5, 15, 12, 13,  5, 24, 15,  7, 15, 24,\n",
       "       24,  9, 24, 19, 24, 22, 15,  9, 15, 15, 12, 15,  7, 24, 22, 15, 24,\n",
       "       24, 22], dtype=int64)"
      ]
     },
     "execution_count": 23,
     "metadata": {},
     "output_type": "execute_result"
    }
   ],
   "source": [
    "#apply返回每个测试样本所在的叶子节点的索引\n",
    "clf.apply(X_test)"
   ]
  },
  {
   "cell_type": "code",
   "execution_count": null,
   "metadata": {},
   "outputs": [],
   "source": []
  }
 ],
 "metadata": {
  "colab": {
   "authorship_tag": "ABX9TyPWwhS35JIp8Bg2wUbiTIOb",
   "name": "Untitled1.ipynb",
   "provenance": []
  },
  "hide_input": false,
  "kernelspec": {
   "display_name": "Python 3",
   "language": "python",
   "name": "python3"
  },
  "language_info": {
   "codemirror_mode": {
    "name": "ipython",
    "version": 3
   },
   "file_extension": ".py",
   "mimetype": "text/x-python",
   "name": "python",
   "nbconvert_exporter": "python",
   "pygments_lexer": "ipython3",
   "version": "3.8.6"
  },
  "toc": {
   "base_numbering": 1,
   "nav_menu": {},
   "number_sections": true,
   "sideBar": true,
   "skip_h1_title": false,
   "title_cell": "Table of Contents",
   "title_sidebar": "Contents",
   "toc_cell": false,
   "toc_position": {},
   "toc_section_display": true,
   "toc_window_display": false
  }
 },
 "nbformat": 4,
 "nbformat_minor": 1
}
