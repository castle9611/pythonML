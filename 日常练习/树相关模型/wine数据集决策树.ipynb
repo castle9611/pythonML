{
 "cells": [
  {
   "cell_type": "code",
   "execution_count": 1,
   "metadata": {
    "ExecuteTime": {
     "end_time": "2020-12-08T01:49:22.071492Z",
     "start_time": "2020-12-08T01:49:21.568406Z"
    },
    "executionInfo": {
     "elapsed": 1385,
     "status": "ok",
     "timestamp": 1607346606115,
     "user": {
      "displayName": "Castle Liu",
      "photoUrl": "https://lh3.googleusercontent.com/a-/AOh14Gi9EHhzFUj43XLvQlEbGdY8KsC-pP9Ibl2vZfk8Ig=s64",
      "userId": "09244105118355585486"
     },
     "user_tz": -480
    },
    "id": "oM9AvoFHSsRq"
   },
   "outputs": [],
   "source": [
    "from sklearn.datasets import load_wine "
   ]
  },
  {
   "cell_type": "code",
   "execution_count": 2,
   "metadata": {
    "ExecuteTime": {
     "end_time": "2020-12-08T01:49:22.247585Z",
     "start_time": "2020-12-08T01:49:22.072853Z"
    },
    "executionInfo": {
     "elapsed": 1537,
     "status": "ok",
     "timestamp": 1607346606733,
     "user": {
      "displayName": "Castle Liu",
      "photoUrl": "https://lh3.googleusercontent.com/a-/AOh14Gi9EHhzFUj43XLvQlEbGdY8KsC-pP9Ibl2vZfk8Ig=s64",
      "userId": "09244105118355585486"
     },
     "user_tz": -480
    },
    "id": "etejWn4iS58b"
   },
   "outputs": [],
   "source": [
    "import pandas as pd"
   ]
  },
  {
   "cell_type": "code",
   "execution_count": 3,
   "metadata": {
    "ExecuteTime": {
     "end_time": "2020-12-08T01:49:22.253886Z",
     "start_time": "2020-12-08T01:49:22.250802Z"
    },
    "executionInfo": {
     "elapsed": 1211,
     "status": "ok",
     "timestamp": 1607346606735,
     "user": {
      "displayName": "Castle Liu",
      "photoUrl": "https://lh3.googleusercontent.com/a-/AOh14Gi9EHhzFUj43XLvQlEbGdY8KsC-pP9Ibl2vZfk8Ig=s64",
      "userId": "09244105118355585486"
     },
     "user_tz": -480
    },
    "id": "DagclqB9TSmj"
   },
   "outputs": [],
   "source": [
    "import numpy as np"
   ]
  },
  {
   "cell_type": "code",
   "execution_count": 4,
   "metadata": {
    "ExecuteTime": {
     "end_time": "2020-12-08T01:49:22.263725Z",
     "start_time": "2020-12-08T01:49:22.257428Z"
    },
    "executionInfo": {
     "elapsed": 2480,
     "status": "ok",
     "timestamp": 1607346754819,
     "user": {
      "displayName": "Castle Liu",
      "photoUrl": "https://lh3.googleusercontent.com/a-/AOh14Gi9EHhzFUj43XLvQlEbGdY8KsC-pP9Ibl2vZfk8Ig=s64",
      "userId": "09244105118355585486"
     },
     "user_tz": -480
    },
    "id": "kVupyYb3UFFA"
   },
   "outputs": [],
   "source": [
    "wines = load_wine()"
   ]
  },
  {
   "cell_type": "code",
   "execution_count": 5,
   "metadata": {
    "ExecuteTime": {
     "end_time": "2020-12-08T01:49:22.278155Z",
     "start_time": "2020-12-08T01:49:22.265767Z"
    },
    "colab": {
     "base_uri": "https://localhost:8080/"
    },
    "executionInfo": {
     "elapsed": 1464,
     "status": "ok",
     "timestamp": 1607346755380,
     "user": {
      "displayName": "Castle Liu",
      "photoUrl": "https://lh3.googleusercontent.com/a-/AOh14Gi9EHhzFUj43XLvQlEbGdY8KsC-pP9Ibl2vZfk8Ig=s64",
      "userId": "09244105118355585486"
     },
     "user_tz": -480
    },
    "id": "FYhTHcuMURjI",
    "outputId": "13e21ea0-1176-4f1f-b822-3a47a7f33f74"
   },
   "outputs": [
    {
     "data": {
      "text/plain": [
       "sklearn.utils.Bunch"
      ]
     },
     "execution_count": 5,
     "metadata": {},
     "output_type": "execute_result"
    }
   ],
   "source": [
    "type(wines)"
   ]
  },
  {
   "cell_type": "code",
   "execution_count": 6,
   "metadata": {
    "ExecuteTime": {
     "end_time": "2020-12-08T01:49:22.284143Z",
     "start_time": "2020-12-08T01:49:22.280097Z"
    },
    "executionInfo": {
     "elapsed": 1401,
     "status": "ok",
     "timestamp": 1607347220211,
     "user": {
      "displayName": "Castle Liu",
      "photoUrl": "https://lh3.googleusercontent.com/a-/AOh14Gi9EHhzFUj43XLvQlEbGdY8KsC-pP9Ibl2vZfk8Ig=s64",
      "userId": "09244105118355585486"
     },
     "user_tz": -480
    },
    "id": "6YoF95TQU4gV"
   },
   "outputs": [],
   "source": [
    "X = wines.data"
   ]
  },
  {
   "cell_type": "code",
   "execution_count": 7,
   "metadata": {
    "ExecuteTime": {
     "end_time": "2020-12-08T01:49:22.294308Z",
     "start_time": "2020-12-08T01:49:22.287811Z"
    },
    "executionInfo": {
     "elapsed": 831,
     "status": "ok",
     "timestamp": 1607347220214,
     "user": {
      "displayName": "Castle Liu",
      "photoUrl": "https://lh3.googleusercontent.com/a-/AOh14Gi9EHhzFUj43XLvQlEbGdY8KsC-pP9Ibl2vZfk8Ig=s64",
      "userId": "09244105118355585486"
     },
     "user_tz": -480
    },
    "id": "VaEaVhMdVTLE"
   },
   "outputs": [],
   "source": [
    "y = wines.target"
   ]
  },
  {
   "cell_type": "code",
   "execution_count": 8,
   "metadata": {
    "ExecuteTime": {
     "end_time": "2020-12-08T01:49:22.306791Z",
     "start_time": "2020-12-08T01:49:22.301466Z"
    },
    "colab": {
     "base_uri": "https://localhost:8080/"
    },
    "executionInfo": {
     "elapsed": 1091,
     "status": "ok",
     "timestamp": 1607347222041,
     "user": {
      "displayName": "Castle Liu",
      "photoUrl": "https://lh3.googleusercontent.com/a-/AOh14Gi9EHhzFUj43XLvQlEbGdY8KsC-pP9Ibl2vZfk8Ig=s64",
      "userId": "09244105118355585486"
     },
     "user_tz": -480
    },
    "id": "zi9zW1CnVWhl",
    "outputId": "c0a8cd31-101c-4495-a5bb-f24f91ee8228"
   },
   "outputs": [
    {
     "data": {
      "text/plain": [
       "['alcohol',\n",
       " 'malic_acid',\n",
       " 'ash',\n",
       " 'alcalinity_of_ash',\n",
       " 'magnesium',\n",
       " 'total_phenols',\n",
       " 'flavanoids',\n",
       " 'nonflavanoid_phenols',\n",
       " 'proanthocyanins',\n",
       " 'color_intensity',\n",
       " 'hue',\n",
       " 'od280/od315_of_diluted_wines',\n",
       " 'proline']"
      ]
     },
     "execution_count": 8,
     "metadata": {},
     "output_type": "execute_result"
    }
   ],
   "source": [
    "wines.feature_names"
   ]
  },
  {
   "cell_type": "code",
   "execution_count": 9,
   "metadata": {
    "ExecuteTime": {
     "end_time": "2020-12-08T01:49:22.320809Z",
     "start_time": "2020-12-08T01:49:22.308542Z"
    },
    "colab": {
     "base_uri": "https://localhost:8080/"
    },
    "executionInfo": {
     "elapsed": 836,
     "status": "ok",
     "timestamp": 1607347222794,
     "user": {
      "displayName": "Castle Liu",
      "photoUrl": "https://lh3.googleusercontent.com/a-/AOh14Gi9EHhzFUj43XLvQlEbGdY8KsC-pP9Ibl2vZfk8Ig=s64",
      "userId": "09244105118355585486"
     },
     "user_tz": -480
    },
    "id": "nXxzIdKaVZ6f",
    "outputId": "92a43089-a779-4269-d47a-08d3ed182e2e"
   },
   "outputs": [
    {
     "data": {
      "text/plain": [
       "array(['class_0', 'class_1', 'class_2'], dtype='<U7')"
      ]
     },
     "execution_count": 9,
     "metadata": {},
     "output_type": "execute_result"
    }
   ],
   "source": [
    "wines.target_names"
   ]
  },
  {
   "cell_type": "code",
   "execution_count": 10,
   "metadata": {
    "ExecuteTime": {
     "end_time": "2020-12-08T01:49:22.351358Z",
     "start_time": "2020-12-08T01:49:22.322656Z"
    },
    "executionInfo": {
     "elapsed": 1184,
     "status": "ok",
     "timestamp": 1607347224773,
     "user": {
      "displayName": "Castle Liu",
      "photoUrl": "https://lh3.googleusercontent.com/a-/AOh14Gi9EHhzFUj43XLvQlEbGdY8KsC-pP9Ibl2vZfk8Ig=s64",
      "userId": "09244105118355585486"
     },
     "user_tz": -480
    },
    "id": "yeFvYrN_WiZ5"
   },
   "outputs": [],
   "source": [
    "from sklearn.model_selection import train_test_split\n",
    "X_train,X_test,y_train,y_test = train_test_split(X,y,test_size=0.2,random_state=0)"
   ]
  },
  {
   "cell_type": "code",
   "execution_count": 11,
   "metadata": {
    "ExecuteTime": {
     "end_time": "2020-12-08T01:49:22.399246Z",
     "start_time": "2020-12-08T01:49:22.354825Z"
    },
    "colab": {
     "base_uri": "https://localhost:8080/"
    },
    "executionInfo": {
     "elapsed": 2384,
     "status": "ok",
     "timestamp": 1607347976632,
     "user": {
      "displayName": "Castle Liu",
      "photoUrl": "https://lh3.googleusercontent.com/a-/AOh14Gi9EHhzFUj43XLvQlEbGdY8KsC-pP9Ibl2vZfk8Ig=s64",
      "userId": "09244105118355585486"
     },
     "user_tz": -480
    },
    "id": "PMQ9ZtYkVjYw",
    "outputId": "98e7ef3c-0cd9-42ae-fc6a-b35da50ddf14"
   },
   "outputs": [
    {
     "data": {
      "text/plain": [
       "DecisionTreeClassifier()"
      ]
     },
     "execution_count": 11,
     "metadata": {},
     "output_type": "execute_result"
    }
   ],
   "source": [
    "from sklearn.tree import DecisionTreeClassifier as DT\n",
    "from sklearn import tree\n",
    "clf = DT()\n",
    "clf.fit(X_train,y_train)\n"
   ]
  },
  {
   "cell_type": "code",
   "execution_count": 12,
   "metadata": {
    "ExecuteTime": {
     "end_time": "2020-12-08T01:49:22.407277Z",
     "start_time": "2020-12-08T01:49:22.401611Z"
    },
    "colab": {
     "base_uri": "https://localhost:8080/"
    },
    "executionInfo": {
     "elapsed": 1239,
     "status": "ok",
     "timestamp": 1607347768248,
     "user": {
      "displayName": "Castle Liu",
      "photoUrl": "https://lh3.googleusercontent.com/a-/AOh14Gi9EHhzFUj43XLvQlEbGdY8KsC-pP9Ibl2vZfk8Ig=s64",
      "userId": "09244105118355585486"
     },
     "user_tz": -480
    },
    "id": "hJbRTK89VpdB",
    "outputId": "6157b39f-e843-43d3-b7ac-aa7b48a25545"
   },
   "outputs": [
    {
     "data": {
      "text/plain": [
       "array([0, 2, 1, 0, 1, 1, 0, 2, 1, 1, 2, 2, 0, 1, 2, 1, 0, 0, 1, 0, 0, 0,\n",
       "       0, 1, 1, 1, 1, 1, 1, 2, 0, 0, 1, 0, 0, 0])"
      ]
     },
     "execution_count": 12,
     "metadata": {},
     "output_type": "execute_result"
    }
   ],
   "source": [
    "clf.predict(X_test)"
   ]
  },
  {
   "cell_type": "code",
   "execution_count": 13,
   "metadata": {
    "ExecuteTime": {
     "end_time": "2020-12-08T01:49:22.413971Z",
     "start_time": "2020-12-08T01:49:22.409241Z"
    },
    "colab": {
     "base_uri": "https://localhost:8080/"
    },
    "executionInfo": {
     "elapsed": 1414,
     "status": "ok",
     "timestamp": 1607347768764,
     "user": {
      "displayName": "Castle Liu",
      "photoUrl": "https://lh3.googleusercontent.com/a-/AOh14Gi9EHhzFUj43XLvQlEbGdY8KsC-pP9Ibl2vZfk8Ig=s64",
      "userId": "09244105118355585486"
     },
     "user_tz": -480
    },
    "id": "HKSCkSvqXFuG",
    "outputId": "eaa556f2-a2b8-4d08-a3b0-b4deb653f7d0"
   },
   "outputs": [
    {
     "data": {
      "text/plain": [
       "0.9722222222222222"
      ]
     },
     "execution_count": 13,
     "metadata": {},
     "output_type": "execute_result"
    }
   ],
   "source": [
    "clf.score(X_test,y_test)"
   ]
  },
  {
   "cell_type": "code",
   "execution_count": 14,
   "metadata": {
    "ExecuteTime": {
     "end_time": "2020-12-08T01:49:22.425912Z",
     "start_time": "2020-12-08T01:49:22.416461Z"
    },
    "executionInfo": {
     "elapsed": 1566,
     "status": "ok",
     "timestamp": 1607347927230,
     "user": {
      "displayName": "Castle Liu",
      "photoUrl": "https://lh3.googleusercontent.com/a-/AOh14Gi9EHhzFUj43XLvQlEbGdY8KsC-pP9Ibl2vZfk8Ig=s64",
      "userId": "09244105118355585486"
     },
     "user_tz": -480
    },
    "id": "j4QMv_VeYMGF"
   },
   "outputs": [],
   "source": [
    "import graphviz"
   ]
  },
  {
   "cell_type": "code",
   "execution_count": 16,
   "metadata": {
    "ExecuteTime": {
     "end_time": "2020-12-08T01:49:45.123749Z",
     "start_time": "2020-12-08T01:49:45.045447Z"
    },
    "colab": {
     "base_uri": "https://localhost:8080/",
     "height": 757
    },
    "executionInfo": {
     "elapsed": 1209,
     "status": "ok",
     "timestamp": 1607348023105,
     "user": {
      "displayName": "Castle Liu",
      "photoUrl": "https://lh3.googleusercontent.com/a-/AOh14Gi9EHhzFUj43XLvQlEbGdY8KsC-pP9Ibl2vZfk8Ig=s64",
      "userId": "09244105118355585486"
     },
     "user_tz": -480
    },
    "id": "gTkmplf1Xmsl",
    "outputId": "0e169e80-7fc7-48a2-fb66-99a9391a8955"
   },
   "outputs": [
    {
     "data": {
      "image/svg+xml": [
       "<?xml version=\"1.0\" encoding=\"UTF-8\" standalone=\"no\"?>\n",
       "<!DOCTYPE svg PUBLIC \"-//W3C//DTD SVG 1.1//EN\"\n",
       " \"http://www.w3.org/Graphics/SVG/1.1/DTD/svg11.dtd\">\n",
       "<!-- Generated by graphviz version 2.43.0 (0)\n",
       " -->\n",
       "<!-- Title: Tree Pages: 1 -->\n",
       "<svg width=\"686pt\" height=\"552pt\"\n",
       " viewBox=\"0.00 0.00 686.00 552.00\" xmlns=\"http://www.w3.org/2000/svg\" xmlns:xlink=\"http://www.w3.org/1999/xlink\">\n",
       "<g id=\"graph0\" class=\"graph\" transform=\"scale(1 1) rotate(0) translate(4 548)\">\n",
       "<title>Tree</title>\n",
       "<polygon fill=\"white\" stroke=\"transparent\" points=\"-4,4 -4,-548 682,-548 682,4 -4,4\"/>\n",
       "<!-- 0 -->\n",
       "<g id=\"node1\" class=\"node\">\n",
       "<title>0</title>\n",
       "<path fill=\"#ebfcf2\" stroke=\"black\" d=\"M362,-544C362,-544 228,-544 228,-544 222,-544 216,-538 216,-532 216,-532 216,-473 216,-473 216,-467 222,-461 228,-461 228,-461 362,-461 362,-461 368,-461 374,-467 374,-473 374,-473 374,-532 374,-532 374,-538 368,-544 362,-544\"/>\n",
       "<text text-anchor=\"middle\" x=\"295\" y=\"-528.8\" font-family=\"Helvetica,sans-Serif\" font-size=\"14.00\">颜色强度 &lt;= 3.46</text>\n",
       "<text text-anchor=\"middle\" x=\"295\" y=\"-513.8\" font-family=\"Helvetica,sans-Serif\" font-size=\"14.00\">gini = 0.662</text>\n",
       "<text text-anchor=\"middle\" x=\"295\" y=\"-498.8\" font-family=\"Helvetica,sans-Serif\" font-size=\"14.00\">samples = 142</text>\n",
       "<text text-anchor=\"middle\" x=\"295\" y=\"-483.8\" font-family=\"Helvetica,sans-Serif\" font-size=\"14.00\">value = [45, 55, 42]</text>\n",
       "<text text-anchor=\"middle\" x=\"295\" y=\"-468.8\" font-family=\"Helvetica,sans-Serif\" font-size=\"14.00\">class = 雪莉</text>\n",
       "</g>\n",
       "<!-- 1 -->\n",
       "<g id=\"node2\" class=\"node\">\n",
       "<title>1</title>\n",
       "<path fill=\"#39e581\" stroke=\"black\" d=\"M272,-417.5C272,-417.5 156,-417.5 156,-417.5 150,-417.5 144,-411.5 144,-405.5 144,-405.5 144,-361.5 144,-361.5 144,-355.5 150,-349.5 156,-349.5 156,-349.5 272,-349.5 272,-349.5 278,-349.5 284,-355.5 284,-361.5 284,-361.5 284,-405.5 284,-405.5 284,-411.5 278,-417.5 272,-417.5\"/>\n",
       "<text text-anchor=\"middle\" x=\"214\" y=\"-402.3\" font-family=\"Helvetica,sans-Serif\" font-size=\"14.00\">gini = 0.0</text>\n",
       "<text text-anchor=\"middle\" x=\"214\" y=\"-387.3\" font-family=\"Helvetica,sans-Serif\" font-size=\"14.00\">samples = 46</text>\n",
       "<text text-anchor=\"middle\" x=\"214\" y=\"-372.3\" font-family=\"Helvetica,sans-Serif\" font-size=\"14.00\">value = [0, 46, 0]</text>\n",
       "<text text-anchor=\"middle\" x=\"214\" y=\"-357.3\" font-family=\"Helvetica,sans-Serif\" font-size=\"14.00\">class = 雪莉</text>\n",
       "</g>\n",
       "<!-- 0&#45;&gt;1 -->\n",
       "<g id=\"edge1\" class=\"edge\">\n",
       "<title>0&#45;&gt;1</title>\n",
       "<path fill=\"none\" stroke=\"black\" d=\"M266.9,-460.91C259.11,-449.65 250.64,-437.42 242.8,-426.11\"/>\n",
       "<polygon fill=\"black\" stroke=\"black\" points=\"245.53,-423.9 236.96,-417.67 239.78,-427.88 245.53,-423.9\"/>\n",
       "<text text-anchor=\"middle\" x=\"232.49\" y=\"-438.56\" font-family=\"Helvetica,sans-Serif\" font-size=\"14.00\">True</text>\n",
       "</g>\n",
       "<!-- 2 -->\n",
       "<g id=\"node3\" class=\"node\">\n",
       "<title>2</title>\n",
       "<path fill=\"#fef8f4\" stroke=\"black\" d=\"M439.5,-425C439.5,-425 314.5,-425 314.5,-425 308.5,-425 302.5,-419 302.5,-413 302.5,-413 302.5,-354 302.5,-354 302.5,-348 308.5,-342 314.5,-342 314.5,-342 439.5,-342 439.5,-342 445.5,-342 451.5,-348 451.5,-354 451.5,-354 451.5,-413 451.5,-413 451.5,-419 445.5,-425 439.5,-425\"/>\n",
       "<text text-anchor=\"middle\" x=\"377\" y=\"-409.8\" font-family=\"Helvetica,sans-Serif\" font-size=\"14.00\">类黄酮 &lt;= 2.11</text>\n",
       "<text text-anchor=\"middle\" x=\"377\" y=\"-394.8\" font-family=\"Helvetica,sans-Serif\" font-size=\"14.00\">gini = 0.58</text>\n",
       "<text text-anchor=\"middle\" x=\"377\" y=\"-379.8\" font-family=\"Helvetica,sans-Serif\" font-size=\"14.00\">samples = 96</text>\n",
       "<text text-anchor=\"middle\" x=\"377\" y=\"-364.8\" font-family=\"Helvetica,sans-Serif\" font-size=\"14.00\">value = [45, 9, 42]</text>\n",
       "<text text-anchor=\"middle\" x=\"377\" y=\"-349.8\" font-family=\"Helvetica,sans-Serif\" font-size=\"14.00\">class = 琴酒</text>\n",
       "</g>\n",
       "<!-- 0&#45;&gt;2 -->\n",
       "<g id=\"edge2\" class=\"edge\">\n",
       "<title>0&#45;&gt;2</title>\n",
       "<path fill=\"none\" stroke=\"black\" d=\"M323.45,-460.91C329.68,-452.01 336.34,-442.51 342.78,-433.33\"/>\n",
       "<polygon fill=\"black\" stroke=\"black\" points=\"345.73,-435.22 348.6,-425.02 340,-431.2 345.73,-435.22\"/>\n",
       "<text text-anchor=\"middle\" x=\"352.93\" y=\"-445.94\" font-family=\"Helvetica,sans-Serif\" font-size=\"14.00\">False</text>\n",
       "</g>\n",
       "<!-- 3 -->\n",
       "<g id=\"node4\" class=\"node\">\n",
       "<title>3</title>\n",
       "<path fill=\"#965ae9\" stroke=\"black\" d=\"M356,-306C356,-306 240,-306 240,-306 234,-306 228,-300 228,-294 228,-294 228,-235 228,-235 228,-229 234,-223 240,-223 240,-223 356,-223 356,-223 362,-223 368,-229 368,-235 368,-235 368,-294 368,-294 368,-300 362,-306 356,-306\"/>\n",
       "<text text-anchor=\"middle\" x=\"298\" y=\"-290.8\" font-family=\"Helvetica,sans-Serif\" font-size=\"14.00\">色调 &lt;= 0.97</text>\n",
       "<text text-anchor=\"middle\" x=\"298\" y=\"-275.8\" font-family=\"Helvetica,sans-Serif\" font-size=\"14.00\">gini = 0.245</text>\n",
       "<text text-anchor=\"middle\" x=\"298\" y=\"-260.8\" font-family=\"Helvetica,sans-Serif\" font-size=\"14.00\">samples = 49</text>\n",
       "<text text-anchor=\"middle\" x=\"298\" y=\"-245.8\" font-family=\"Helvetica,sans-Serif\" font-size=\"14.00\">value = [0, 7, 42]</text>\n",
       "<text text-anchor=\"middle\" x=\"298\" y=\"-230.8\" font-family=\"Helvetica,sans-Serif\" font-size=\"14.00\">class = 贝尔摩德</text>\n",
       "</g>\n",
       "<!-- 2&#45;&gt;3 -->\n",
       "<g id=\"edge3\" class=\"edge\">\n",
       "<title>2&#45;&gt;3</title>\n",
       "<path fill=\"none\" stroke=\"black\" d=\"M349.59,-341.91C343.59,-333.01 337.17,-323.51 330.97,-314.33\"/>\n",
       "<polygon fill=\"black\" stroke=\"black\" points=\"333.86,-312.35 325.36,-306.02 328.06,-316.27 333.86,-312.35\"/>\n",
       "</g>\n",
       "<!-- 8 -->\n",
       "<g id=\"node9\" class=\"node\">\n",
       "<title>8</title>\n",
       "<path fill=\"#e68742\" stroke=\"black\" d=\"M514,-306C514,-306 398,-306 398,-306 392,-306 386,-300 386,-294 386,-294 386,-235 386,-235 386,-229 392,-223 398,-223 398,-223 514,-223 514,-223 520,-223 526,-229 526,-235 526,-235 526,-294 526,-294 526,-300 520,-306 514,-306\"/>\n",
       "<text text-anchor=\"middle\" x=\"456\" y=\"-290.8\" font-family=\"Helvetica,sans-Serif\" font-size=\"14.00\">酒精 &lt;= 12.785</text>\n",
       "<text text-anchor=\"middle\" x=\"456\" y=\"-275.8\" font-family=\"Helvetica,sans-Serif\" font-size=\"14.00\">gini = 0.081</text>\n",
       "<text text-anchor=\"middle\" x=\"456\" y=\"-260.8\" font-family=\"Helvetica,sans-Serif\" font-size=\"14.00\">samples = 47</text>\n",
       "<text text-anchor=\"middle\" x=\"456\" y=\"-245.8\" font-family=\"Helvetica,sans-Serif\" font-size=\"14.00\">value = [45, 2, 0]</text>\n",
       "<text text-anchor=\"middle\" x=\"456\" y=\"-230.8\" font-family=\"Helvetica,sans-Serif\" font-size=\"14.00\">class = 琴酒</text>\n",
       "</g>\n",
       "<!-- 2&#45;&gt;8 -->\n",
       "<g id=\"edge8\" class=\"edge\">\n",
       "<title>2&#45;&gt;8</title>\n",
       "<path fill=\"none\" stroke=\"black\" d=\"M404.41,-341.91C410.41,-333.01 416.83,-323.51 423.03,-314.33\"/>\n",
       "<polygon fill=\"black\" stroke=\"black\" points=\"425.94,-316.27 428.64,-306.02 420.14,-312.35 425.94,-316.27\"/>\n",
       "</g>\n",
       "<!-- 4 -->\n",
       "<g id=\"node5\" class=\"node\">\n",
       "<title>4</title>\n",
       "<path fill=\"#843ee6\" stroke=\"black\" d=\"M205,-187C205,-187 89,-187 89,-187 83,-187 77,-181 77,-175 77,-175 77,-116 77,-116 77,-110 83,-104 89,-104 89,-104 205,-104 205,-104 211,-104 217,-110 217,-116 217,-116 217,-175 217,-175 217,-181 211,-187 205,-187\"/>\n",
       "<text text-anchor=\"middle\" x=\"147\" y=\"-171.8\" font-family=\"Helvetica,sans-Serif\" font-size=\"14.00\">类黄酮 &lt;= 1.58</text>\n",
       "<text text-anchor=\"middle\" x=\"147\" y=\"-156.8\" font-family=\"Helvetica,sans-Serif\" font-size=\"14.00\">gini = 0.045</text>\n",
       "<text text-anchor=\"middle\" x=\"147\" y=\"-141.8\" font-family=\"Helvetica,sans-Serif\" font-size=\"14.00\">samples = 43</text>\n",
       "<text text-anchor=\"middle\" x=\"147\" y=\"-126.8\" font-family=\"Helvetica,sans-Serif\" font-size=\"14.00\">value = [0, 1, 42]</text>\n",
       "<text text-anchor=\"middle\" x=\"147\" y=\"-111.8\" font-family=\"Helvetica,sans-Serif\" font-size=\"14.00\">class = 贝尔摩德</text>\n",
       "</g>\n",
       "<!-- 3&#45;&gt;4 -->\n",
       "<g id=\"edge4\" class=\"edge\">\n",
       "<title>3&#45;&gt;4</title>\n",
       "<path fill=\"none\" stroke=\"black\" d=\"M245.61,-222.91C233.31,-213.38 220.11,-203.15 207.49,-193.37\"/>\n",
       "<polygon fill=\"black\" stroke=\"black\" points=\"209.34,-190.38 199.3,-187.02 205.06,-195.91 209.34,-190.38\"/>\n",
       "</g>\n",
       "<!-- 7 -->\n",
       "<g id=\"node8\" class=\"node\">\n",
       "<title>7</title>\n",
       "<path fill=\"#39e581\" stroke=\"black\" d=\"M354.5,-179.5C354.5,-179.5 247.5,-179.5 247.5,-179.5 241.5,-179.5 235.5,-173.5 235.5,-167.5 235.5,-167.5 235.5,-123.5 235.5,-123.5 235.5,-117.5 241.5,-111.5 247.5,-111.5 247.5,-111.5 354.5,-111.5 354.5,-111.5 360.5,-111.5 366.5,-117.5 366.5,-123.5 366.5,-123.5 366.5,-167.5 366.5,-167.5 366.5,-173.5 360.5,-179.5 354.5,-179.5\"/>\n",
       "<text text-anchor=\"middle\" x=\"301\" y=\"-164.3\" font-family=\"Helvetica,sans-Serif\" font-size=\"14.00\">gini = 0.0</text>\n",
       "<text text-anchor=\"middle\" x=\"301\" y=\"-149.3\" font-family=\"Helvetica,sans-Serif\" font-size=\"14.00\">samples = 6</text>\n",
       "<text text-anchor=\"middle\" x=\"301\" y=\"-134.3\" font-family=\"Helvetica,sans-Serif\" font-size=\"14.00\">value = [0, 6, 0]</text>\n",
       "<text text-anchor=\"middle\" x=\"301\" y=\"-119.3\" font-family=\"Helvetica,sans-Serif\" font-size=\"14.00\">class = 雪莉</text>\n",
       "</g>\n",
       "<!-- 3&#45;&gt;7 -->\n",
       "<g id=\"edge7\" class=\"edge\">\n",
       "<title>3&#45;&gt;7</title>\n",
       "<path fill=\"none\" stroke=\"black\" d=\"M299.04,-222.91C299.32,-212.2 299.61,-200.62 299.89,-189.78\"/>\n",
       "<polygon fill=\"black\" stroke=\"black\" points=\"303.39,-189.75 300.15,-179.67 296.39,-189.57 303.39,-189.75\"/>\n",
       "</g>\n",
       "<!-- 5 -->\n",
       "<g id=\"node6\" class=\"node\">\n",
       "<title>5</title>\n",
       "<path fill=\"#8139e5\" stroke=\"black\" d=\"M128,-68C128,-68 12,-68 12,-68 6,-68 0,-62 0,-56 0,-56 0,-12 0,-12 0,-6 6,0 12,0 12,0 128,0 128,0 134,0 140,-6 140,-12 140,-12 140,-56 140,-56 140,-62 134,-68 128,-68\"/>\n",
       "<text text-anchor=\"middle\" x=\"70\" y=\"-52.8\" font-family=\"Helvetica,sans-Serif\" font-size=\"14.00\">gini = 0.0</text>\n",
       "<text text-anchor=\"middle\" x=\"70\" y=\"-37.8\" font-family=\"Helvetica,sans-Serif\" font-size=\"14.00\">samples = 42</text>\n",
       "<text text-anchor=\"middle\" x=\"70\" y=\"-22.8\" font-family=\"Helvetica,sans-Serif\" font-size=\"14.00\">value = [0, 0, 42]</text>\n",
       "<text text-anchor=\"middle\" x=\"70\" y=\"-7.8\" font-family=\"Helvetica,sans-Serif\" font-size=\"14.00\">class = 贝尔摩德</text>\n",
       "</g>\n",
       "<!-- 4&#45;&gt;5 -->\n",
       "<g id=\"edge5\" class=\"edge\">\n",
       "<title>4&#45;&gt;5</title>\n",
       "<path fill=\"none\" stroke=\"black\" d=\"M118.33,-103.73C112.11,-94.88 105.52,-85.51 99.27,-76.63\"/>\n",
       "<polygon fill=\"black\" stroke=\"black\" points=\"102.03,-74.47 93.42,-68.3 96.31,-78.49 102.03,-74.47\"/>\n",
       "</g>\n",
       "<!-- 6 -->\n",
       "<g id=\"node7\" class=\"node\">\n",
       "<title>6</title>\n",
       "<path fill=\"#39e581\" stroke=\"black\" d=\"M277.5,-68C277.5,-68 170.5,-68 170.5,-68 164.5,-68 158.5,-62 158.5,-56 158.5,-56 158.5,-12 158.5,-12 158.5,-6 164.5,0 170.5,0 170.5,0 277.5,0 277.5,0 283.5,0 289.5,-6 289.5,-12 289.5,-12 289.5,-56 289.5,-56 289.5,-62 283.5,-68 277.5,-68\"/>\n",
       "<text text-anchor=\"middle\" x=\"224\" y=\"-52.8\" font-family=\"Helvetica,sans-Serif\" font-size=\"14.00\">gini = 0.0</text>\n",
       "<text text-anchor=\"middle\" x=\"224\" y=\"-37.8\" font-family=\"Helvetica,sans-Serif\" font-size=\"14.00\">samples = 1</text>\n",
       "<text text-anchor=\"middle\" x=\"224\" y=\"-22.8\" font-family=\"Helvetica,sans-Serif\" font-size=\"14.00\">value = [0, 1, 0]</text>\n",
       "<text text-anchor=\"middle\" x=\"224\" y=\"-7.8\" font-family=\"Helvetica,sans-Serif\" font-size=\"14.00\">class = 雪莉</text>\n",
       "</g>\n",
       "<!-- 4&#45;&gt;6 -->\n",
       "<g id=\"edge6\" class=\"edge\">\n",
       "<title>4&#45;&gt;6</title>\n",
       "<path fill=\"none\" stroke=\"black\" d=\"M175.67,-103.73C181.89,-94.88 188.48,-85.51 194.73,-76.63\"/>\n",
       "<polygon fill=\"black\" stroke=\"black\" points=\"197.69,-78.49 200.58,-68.3 191.97,-74.47 197.69,-78.49\"/>\n",
       "</g>\n",
       "<!-- 9 -->\n",
       "<g id=\"node10\" class=\"node\">\n",
       "<title>9</title>\n",
       "<path fill=\"#39e581\" stroke=\"black\" d=\"M507.5,-179.5C507.5,-179.5 400.5,-179.5 400.5,-179.5 394.5,-179.5 388.5,-173.5 388.5,-167.5 388.5,-167.5 388.5,-123.5 388.5,-123.5 388.5,-117.5 394.5,-111.5 400.5,-111.5 400.5,-111.5 507.5,-111.5 507.5,-111.5 513.5,-111.5 519.5,-117.5 519.5,-123.5 519.5,-123.5 519.5,-167.5 519.5,-167.5 519.5,-173.5 513.5,-179.5 507.5,-179.5\"/>\n",
       "<text text-anchor=\"middle\" x=\"454\" y=\"-164.3\" font-family=\"Helvetica,sans-Serif\" font-size=\"14.00\">gini = 0.0</text>\n",
       "<text text-anchor=\"middle\" x=\"454\" y=\"-149.3\" font-family=\"Helvetica,sans-Serif\" font-size=\"14.00\">samples = 2</text>\n",
       "<text text-anchor=\"middle\" x=\"454\" y=\"-134.3\" font-family=\"Helvetica,sans-Serif\" font-size=\"14.00\">value = [0, 2, 0]</text>\n",
       "<text text-anchor=\"middle\" x=\"454\" y=\"-119.3\" font-family=\"Helvetica,sans-Serif\" font-size=\"14.00\">class = 雪莉</text>\n",
       "</g>\n",
       "<!-- 8&#45;&gt;9 -->\n",
       "<g id=\"edge9\" class=\"edge\">\n",
       "<title>8&#45;&gt;9</title>\n",
       "<path fill=\"none\" stroke=\"black\" d=\"M455.31,-222.91C455.12,-212.2 454.93,-200.62 454.74,-189.78\"/>\n",
       "<polygon fill=\"black\" stroke=\"black\" points=\"458.24,-189.61 454.57,-179.67 451.24,-189.73 458.24,-189.61\"/>\n",
       "</g>\n",
       "<!-- 10 -->\n",
       "<g id=\"node11\" class=\"node\">\n",
       "<title>10</title>\n",
       "<path fill=\"#e58139\" stroke=\"black\" d=\"M666,-179.5C666,-179.5 550,-179.5 550,-179.5 544,-179.5 538,-173.5 538,-167.5 538,-167.5 538,-123.5 538,-123.5 538,-117.5 544,-111.5 550,-111.5 550,-111.5 666,-111.5 666,-111.5 672,-111.5 678,-117.5 678,-123.5 678,-123.5 678,-167.5 678,-167.5 678,-173.5 672,-179.5 666,-179.5\"/>\n",
       "<text text-anchor=\"middle\" x=\"608\" y=\"-164.3\" font-family=\"Helvetica,sans-Serif\" font-size=\"14.00\">gini = 0.0</text>\n",
       "<text text-anchor=\"middle\" x=\"608\" y=\"-149.3\" font-family=\"Helvetica,sans-Serif\" font-size=\"14.00\">samples = 45</text>\n",
       "<text text-anchor=\"middle\" x=\"608\" y=\"-134.3\" font-family=\"Helvetica,sans-Serif\" font-size=\"14.00\">value = [45, 0, 0]</text>\n",
       "<text text-anchor=\"middle\" x=\"608\" y=\"-119.3\" font-family=\"Helvetica,sans-Serif\" font-size=\"14.00\">class = 琴酒</text>\n",
       "</g>\n",
       "<!-- 8&#45;&gt;10 -->\n",
       "<g id=\"edge10\" class=\"edge\">\n",
       "<title>8&#45;&gt;10</title>\n",
       "<path fill=\"none\" stroke=\"black\" d=\"M508.74,-222.91C524.36,-210.88 541.44,-197.73 556.96,-185.79\"/>\n",
       "<polygon fill=\"black\" stroke=\"black\" points=\"559.12,-188.54 564.91,-179.67 554.85,-182.99 559.12,-188.54\"/>\n",
       "</g>\n",
       "</g>\n",
       "</svg>\n"
      ],
      "text/plain": [
       "<graphviz.files.Source at 0x7fc21c189c10>"
      ]
     },
     "execution_count": 16,
     "metadata": {},
     "output_type": "execute_result"
    }
   ],
   "source": [
    "dot_data = tree.export_graphviz(clf\n",
    "                                ,feature_names=['酒精','苹果酸','灰','灰的碱性','镁','总酚','类黄酮','非黄烷类酚类','花青素','颜色强度','色调','od280/od315稀释葡萄酒','脯氨酸']\n",
    "                                ,class_names=['琴酒','雪莉','贝尔摩德']\n",
    "                                ,filled=True\n",
    "                                ,rounded=True)\n",
    "graphviz.Source(dot_data)"
   ]
  },
  {
   "cell_type": "code",
   "execution_count": 34,
   "metadata": {
    "ExecuteTime": {
     "end_time": "2020-12-08T02:14:58.129522Z",
     "start_time": "2020-12-08T02:14:58.119243Z"
    },
    "executionInfo": {
     "elapsed": 1249,
     "status": "ok",
     "timestamp": 1607347769980,
     "user": {
      "displayName": "Castle Liu",
      "photoUrl": "https://lh3.googleusercontent.com/a-/AOh14Gi9EHhzFUj43XLvQlEbGdY8KsC-pP9Ibl2vZfk8Ig=s64",
      "userId": "09244105118355585486"
     },
     "user_tz": -480
    },
    "id": "oU--8cp8YdGK"
   },
   "outputs": [],
   "source": [
    "feature_name\n",
    "zip_res = zip(feature_name,clf.feature_importances_)"
   ]
  },
  {
   "cell_type": "code",
   "execution_count": 35,
   "metadata": {
    "ExecuteTime": {
     "end_time": "2020-12-08T02:14:58.978960Z",
     "start_time": "2020-12-08T02:14:58.965499Z"
    },
    "scrolled": true
   },
   "outputs": [
    {
     "data": {
      "text/plain": [
       "[(('alcohol', 0.040736313650490096),),\n",
       " (('malic_acid', 0.0),),\n",
       " (('ash', 0.0),),\n",
       " (('alcalinity_of_ash', 0.0),),\n",
       " (('magnesium', 0.0),),\n",
       " (('total_phenols', 0.0),),\n",
       " (('flavanoids', 0.4447333754009863),),\n",
       " (('nonflavanoid_phenols', 0.0),),\n",
       " (('proanthocyanins', 0.0),),\n",
       " (('color_intensity', 0.40766853932584274),),\n",
       " (('hue', 0.10686177162268096),),\n",
       " (('od280/od315_of_diluted_wines', 0.0),),\n",
       " (('proline', 0.0),)]"
      ]
     },
     "execution_count": 35,
     "metadata": {},
     "output_type": "execute_result"
    }
   ],
   "source": [
    "[*zip(zip_res)]"
   ]
  },
  {
   "cell_type": "code",
   "execution_count": 36,
   "metadata": {
    "ExecuteTime": {
     "end_time": "2020-12-08T03:05:24.388303Z",
     "start_time": "2020-12-08T03:05:24.056421Z"
    }
   },
   "outputs": [
    {
     "data": {
      "image/png": "[encoded data removed]",
      "text/plain": [
       "<Figure size 432x288 with 1 Axes>"
      ]
     },
     "metadata": {
      "needs_background": "light"
     },
     "output_type": "display_data"
    }
   ],
   "source": [
    "# 对深度参数进行学习\n",
    "import matplotlib.pyplot as plt\n",
    "test = []\n",
    "for i in range(10):\n",
    "    clf = tree.DecisionTreeClassifier(max_depth=i+1\n",
    "                                    ,criterion=\"entropy\"\n",
    "                                    ,random_state=30\n",
    "                                    ,splitter=\"random\"\n",
    "                                    )\n",
    "    clf = clf.fit(X_train, y_train)\n",
    "    score = clf.score(X_test, y_test)\n",
    "    test.append(score)\n",
    "plt.plot(range(1,11),test,color=\"red\",label=\"max_depth\")\n",
    "plt.legend()\n",
    "plt.show()"
   ]
  },
  {
   "cell_type": "code",
   "execution_count": 39,
   "metadata": {
    "ExecuteTime": {
     "end_time": "2020-12-08T03:06:56.592222Z",
     "start_time": "2020-12-08T03:06:56.577289Z"
    }
   },
   "outputs": [
    {
     "data": {
      "text/plain": [
       "array([24,  7, 15, 24, 19, 15, 24,  5, 15, 12, 13,  5, 24, 15,  7, 15, 24,\n",
       "       24,  9, 24, 19, 24, 22, 15,  9, 15, 15, 12, 15,  7, 24, 22, 15, 24,\n",
       "       24, 22])"
      ]
     },
     "execution_count": 39,
     "metadata": {},
     "output_type": "execute_result"
    }
   ],
   "source": [
    "#apply返回每个测试样本所在的叶子节点的索引\n",
    "clf.apply(X_test)"
   ]
  },
  {
   "cell_type": "code",
   "execution_count": null,
   "metadata": {},
   "outputs": [],
   "source": []
  }
 ],
 "metadata": {
  "colab": {
   "authorship_tag": "ABX9TyPWwhS35JIp8Bg2wUbiTIOb",
   "name": "Untitled1.ipynb",
   "provenance": []
  },
  "hide_input": false,
  "kernelspec": {
   "display_name": "Python 3",
   "language": "python",
   "name": "python3"
  },
  "language_info": {
   "codemirror_mode": {
    "name": "ipython",
    "version": 3
   },
   "file_extension": ".py",
   "mimetype": "text/x-python",
   "name": "python",
   "nbconvert_exporter": "python",
   "pygments_lexer": "ipython3",
   "version": "3.8.5"
  },
  "toc": {
   "base_numbering": 1,
   "nav_menu": {},
   "number_sections": true,
   "sideBar": true,
   "skip_h1_title": false,
   "title_cell": "Table of Contents",
   "title_sidebar": "Contents",
   "toc_cell": false,
   "toc_position": {},
   "toc_section_display": true,
   "toc_window_display": false
  }
 },
 "nbformat": 4,
 "nbformat_minor": 1
}
