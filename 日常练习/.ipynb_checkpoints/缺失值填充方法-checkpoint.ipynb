{
 "cells": [
  {
   "cell_type": "markdown",
   "metadata": {},
   "source": [
    "# 缺失值填充\n",
    "\n",
    "##  1. 产生原因\n",
    "- 无意的：信息被遗漏，比如由于工作人员的疏忽，忘记而缺失；或者由于数据采集器等故障等原因造成的缺失，比如系统实时性要求较高的时候，机器来不及判断和决策而造成缺失；\n",
    "- 有意的：有些数据集在特征描述中会规定将缺失值也作为一种特征值，这时候缺失值就可以看作是一种特殊的特征值；\n",
    "- 不存在：有些特征属性根本就是不存在的，比如一个未婚者的配偶名字就没法填写，再如一个孩子的收入状况也无法填写  \n",
    "##  2. 缺失值类型\n",
    "- 完全随机缺失（Missing Completely at Random）\n",
    "指的是数据的缺失是完全随机的，不依赖于任何不完全变量或完全变量，不影响样本的无偏性，如家庭地址缺失；    \n",
    "- 随机缺失（Missing at Random）\n",
    "指的是数据的缺失不是完全随机的，即该类数据的缺失依赖于其他完全变量（但和自己取值无关），如: 财务数据缺失情况与企业的大小有关；  \n",
    "- 非随机缺失（Missing not at Random）\n",
    "指的是数据的缺失与不完全变量自身的取值有关，如高收入人群不原意提供家庭收入；\n",
    "- ps:数据集中不含缺失值的变量称为完全变量，数据集中含有缺失值的变量称为不完全变量。 ### 如何处理？\n",
    "对于随机缺失和非随机缺失，直接删除记录是不合适的，原因上面已经给出。随机缺失可以通过已知变量对缺失值进行估计，而非随机缺失的非随机性还没有很好的解决办法。 \n",
    "## 3. 常见方案：\n",
    "- 删除记录\n",
    "样本够多，且待删除的样本分布随机时使用。\n",
    "- 数据填补\n",
    "- 不处理"
   ]
  },
  {
   "cell_type": "code",
   "execution_count": 1,
   "metadata": {
    "ExecuteTime": {
     "end_time": "2020-12-13T17:01:33.427869Z",
     "start_time": "2020-12-13T17:01:32.755279Z"
    }
   },
   "outputs": [],
   "source": [
    "import pandas as pd \n",
    "import numpy as np"
   ]
  },
  {
   "cell_type": "code",
   "execution_count": 2,
   "metadata": {
    "ExecuteTime": {
     "end_time": "2020-12-13T17:01:41.847435Z",
     "start_time": "2020-12-13T17:01:41.834950Z"
    }
   },
   "outputs": [],
   "source": [
    "df = pd.DataFrame({'A':['a','b','c','d','e','f','g','h'],'B':[1,2,np.nan,4,np.nan,6,7,8]})"
   ]
  },
  {
   "cell_type": "code",
   "execution_count": 3,
   "metadata": {
    "ExecuteTime": {
     "end_time": "2020-12-13T17:01:43.751640Z",
     "start_time": "2020-12-13T17:01:43.724197Z"
    }
   },
   "outputs": [
    {
     "name": "stdout",
     "output_type": "stream",
     "text": [
      "<class 'pandas.core.frame.DataFrame'>\n",
      "RangeIndex: 8 entries, 0 to 7\n",
      "Data columns (total 2 columns):\n",
      " #   Column  Non-Null Count  Dtype  \n",
      "---  ------  --------------  -----  \n",
      " 0   A       8 non-null      object \n",
      " 1   B       6 non-null      float64\n",
      "dtypes: float64(1), object(1)\n",
      "memory usage: 256.0+ bytes\n"
     ]
    }
   ],
   "source": [
    "df.info()"
   ]
  },
  {
   "cell_type": "markdown",
   "metadata": {},
   "source": [
    "### 3.1 直接删除缺失记录"
   ]
  },
  {
   "cell_type": "code",
   "execution_count": 4,
   "metadata": {
    "ExecuteTime": {
     "end_time": "2020-12-13T17:04:18.806912Z",
     "start_time": "2020-12-13T17:04:18.767467Z"
    }
   },
   "outputs": [
    {
     "name": "stdout",
     "output_type": "stream",
     "text": [
      "<class 'pandas.core.frame.DataFrame'>\n",
      "Int64Index: 6 entries, 0 to 7\n",
      "Data columns (total 2 columns):\n",
      " #   Column  Non-Null Count  Dtype  \n",
      "---  ------  --------------  -----  \n",
      " 0   A       6 non-null      object \n",
      " 1   B       6 non-null      float64\n",
      "dtypes: float64(1), object(1)\n",
      "memory usage: 144.0+ bytes\n"
     ]
    }
   ],
   "source": [
    "df_drop = df.dropna()\n",
    "df_drop.info()"
   ]
  },
  {
   "cell_type": "markdown",
   "metadata": {},
   "source": [
    "### 3.2 数据填补"
   ]
  },
  {
   "cell_type": "markdown",
   "metadata": {},
   "source": [
    "#### a. 插值填充"
   ]
  },
  {
   "cell_type": "code",
   "execution_count": 6,
   "metadata": {
    "ExecuteTime": {
     "end_time": "2020-12-13T17:06:13.370158Z",
     "start_time": "2020-12-13T17:06:13.331232Z"
    }
   },
   "outputs": [
    {
     "name": "stdout",
     "output_type": "stream",
     "text": [
      "<class 'pandas.core.frame.DataFrame'>\n",
      "RangeIndex: 8 entries, 0 to 7\n",
      "Data columns (total 2 columns):\n",
      " #   Column  Non-Null Count  Dtype  \n",
      "---  ------  --------------  -----  \n",
      " 0   A       8 non-null      object \n",
      " 1   B       8 non-null      float64\n",
      "dtypes: float64(1), object(1)\n",
      "memory usage: 256.0+ bytes\n",
      "None\n"
     ]
    },
    {
     "data": {
      "text/html": [
       "<div>\n",
       "<style scoped>\n",
       "    .dataframe tbody tr th:only-of-type {\n",
       "        vertical-align: middle;\n",
       "    }\n",
       "\n",
       "    .dataframe tbody tr th {\n",
       "        vertical-align: top;\n",
       "    }\n",
       "\n",
       "    .dataframe thead th {\n",
       "        text-align: right;\n",
       "    }\n",
       "</style>\n",
       "<table border=\"1\" class=\"dataframe\">\n",
       "  <thead>\n",
       "    <tr style=\"text-align: right;\">\n",
       "      <th></th>\n",
       "      <th>A</th>\n",
       "      <th>B</th>\n",
       "    </tr>\n",
       "  </thead>\n",
       "  <tbody>\n",
       "    <tr>\n",
       "      <th>0</th>\n",
       "      <td>a</td>\n",
       "      <td>1.0</td>\n",
       "    </tr>\n",
       "    <tr>\n",
       "      <th>1</th>\n",
       "      <td>b</td>\n",
       "      <td>2.0</td>\n",
       "    </tr>\n",
       "    <tr>\n",
       "      <th>2</th>\n",
       "      <td>c</td>\n",
       "      <td>3.0</td>\n",
       "    </tr>\n",
       "    <tr>\n",
       "      <th>3</th>\n",
       "      <td>d</td>\n",
       "      <td>4.0</td>\n",
       "    </tr>\n",
       "    <tr>\n",
       "      <th>4</th>\n",
       "      <td>e</td>\n",
       "      <td>5.0</td>\n",
       "    </tr>\n",
       "    <tr>\n",
       "      <th>5</th>\n",
       "      <td>f</td>\n",
       "      <td>6.0</td>\n",
       "    </tr>\n",
       "    <tr>\n",
       "      <th>6</th>\n",
       "      <td>g</td>\n",
       "      <td>7.0</td>\n",
       "    </tr>\n",
       "    <tr>\n",
       "      <th>7</th>\n",
       "      <td>h</td>\n",
       "      <td>8.0</td>\n",
       "    </tr>\n",
       "  </tbody>\n",
       "</table>\n",
       "</div>"
      ],
      "text/plain": [
       "   A    B\n",
       "0  a  1.0\n",
       "1  b  2.0\n",
       "2  c  3.0\n",
       "3  d  4.0\n",
       "4  e  5.0\n",
       "5  f  6.0\n",
       "6  g  7.0\n",
       "7  h  8.0"
      ]
     },
     "execution_count": 6,
     "metadata": {},
     "output_type": "execute_result"
    }
   ],
   "source": [
    "df_interp = df.interpolate()\n",
    "print(df_interp.info())\n",
    "df_interp"
   ]
  },
  {
   "cell_type": "markdown",
   "metadata": {},
   "source": [
    "#### b. 前向填充，后向填充"
   ]
  },
  {
   "cell_type": "code",
   "execution_count": 7,
   "metadata": {
    "ExecuteTime": {
     "end_time": "2020-12-13T17:06:23.114565Z",
     "start_time": "2020-12-13T17:06:23.092679Z"
    }
   },
   "outputs": [
    {
     "name": "stdout",
     "output_type": "stream",
     "text": [
      "   A    B\n",
      "0  a  1.0\n",
      "1  b  2.0\n",
      "2  c  2.0\n",
      "3  d  4.0\n",
      "4  e  4.0\n",
      "5  f  6.0\n",
      "6  g  7.0\n",
      "7  h  8.0 \n",
      "    A    B\n",
      "0  a  1.0\n",
      "1  b  2.0\n",
      "2  c  4.0\n",
      "3  d  4.0\n",
      "4  e  6.0\n",
      "5  f  6.0\n",
      "6  g  7.0\n",
      "7  h  8.0\n"
     ]
    }
   ],
   "source": [
    "df_front = df.ffill()\n",
    "df_behind = df.bfill()\n",
    "print(df_front,'\\n',df_behind)"
   ]
  },
  {
   "cell_type": "markdown",
   "metadata": {},
   "source": [
    "#### c.二次插值\n",
    "如果数据是非线性的， 可以尝试"
   ]
  },
  {
   "cell_type": "code",
   "execution_count": 8,
   "metadata": {
    "ExecuteTime": {
     "end_time": "2020-12-13T17:08:01.490472Z",
     "start_time": "2020-12-13T17:08:01.185943Z"
    }
   },
   "outputs": [
    {
     "data": {
      "text/html": [
       "<div>\n",
       "<style scoped>\n",
       "    .dataframe tbody tr th:only-of-type {\n",
       "        vertical-align: middle;\n",
       "    }\n",
       "\n",
       "    .dataframe tbody tr th {\n",
       "        vertical-align: top;\n",
       "    }\n",
       "\n",
       "    .dataframe thead th {\n",
       "        text-align: right;\n",
       "    }\n",
       "</style>\n",
       "<table border=\"1\" class=\"dataframe\">\n",
       "  <thead>\n",
       "    <tr style=\"text-align: right;\">\n",
       "      <th></th>\n",
       "      <th>A</th>\n",
       "      <th>B</th>\n",
       "    </tr>\n",
       "  </thead>\n",
       "  <tbody>\n",
       "    <tr>\n",
       "      <th>0</th>\n",
       "      <td>a</td>\n",
       "      <td>1.0</td>\n",
       "    </tr>\n",
       "    <tr>\n",
       "      <th>1</th>\n",
       "      <td>b</td>\n",
       "      <td>2.0</td>\n",
       "    </tr>\n",
       "    <tr>\n",
       "      <th>2</th>\n",
       "      <td>c</td>\n",
       "      <td>3.0</td>\n",
       "    </tr>\n",
       "    <tr>\n",
       "      <th>3</th>\n",
       "      <td>d</td>\n",
       "      <td>4.0</td>\n",
       "    </tr>\n",
       "    <tr>\n",
       "      <th>4</th>\n",
       "      <td>e</td>\n",
       "      <td>5.0</td>\n",
       "    </tr>\n",
       "    <tr>\n",
       "      <th>5</th>\n",
       "      <td>f</td>\n",
       "      <td>6.0</td>\n",
       "    </tr>\n",
       "    <tr>\n",
       "      <th>6</th>\n",
       "      <td>g</td>\n",
       "      <td>7.0</td>\n",
       "    </tr>\n",
       "    <tr>\n",
       "      <th>7</th>\n",
       "      <td>h</td>\n",
       "      <td>8.0</td>\n",
       "    </tr>\n",
       "  </tbody>\n",
       "</table>\n",
       "</div>"
      ],
      "text/plain": [
       "   A    B\n",
       "0  a  1.0\n",
       "1  b  2.0\n",
       "2  c  3.0\n",
       "3  d  4.0\n",
       "4  e  5.0\n",
       "5  f  6.0\n",
       "6  g  7.0\n",
       "7  h  8.0"
      ]
     },
     "execution_count": 8,
     "metadata": {},
     "output_type": "execute_result"
    }
   ],
   "source": [
    "df_quadratic = df.interpolate(method=\"quadratic\")\n",
    "df_quadratic"
   ]
  },
  {
   "cell_type": "markdown",
   "metadata": {},
   "source": [
    "#### d. 使用sklearn的SimpleImputer方法进行单变量插补\n",
    "主要参数说明：\n",
    "\n",
    "missing_values：缺失值，可以为整数或NaN(缺失值numpy.nan用字符串‘NaN’表示)，默认为NaN  \n",
    "strategy：替换策略，字符串，默认用均值‘mean’替换  \n",
    "①若为mean时，用特征列的均值替换  \n",
    "②若为median时，用特征列的中位数替换  \n",
    "③若为most_frequent时，用特征列的众数替换  "
   ]
  },
  {
   "cell_type": "code",
   "execution_count": 9,
   "metadata": {
    "ExecuteTime": {
     "end_time": "2020-12-13T17:09:35.246328Z",
     "start_time": "2020-12-13T17:09:34.196104Z"
    }
   },
   "outputs": [],
   "source": [
    "from sklearn.impute import SimpleImputer\n",
    "# 均值填充\n",
    "imp_mean = SimpleImputer(strategy='mean')\n",
    "# 中位数填充\n",
    "imp_median = SimpleImputer(strategy='median')\n",
    "# 众数填充\n",
    "imp_most = SimpleImputer(strategy='most_frequent')"
   ]
  },
  {
   "cell_type": "code",
   "execution_count": 10,
   "metadata": {
    "ExecuteTime": {
     "end_time": "2020-12-13T17:09:43.534517Z",
     "start_time": "2020-12-13T17:09:43.524021Z"
    }
   },
   "outputs": [
    {
     "data": {
      "text/html": [
       "<div>\n",
       "<style scoped>\n",
       "    .dataframe tbody tr th:only-of-type {\n",
       "        vertical-align: middle;\n",
       "    }\n",
       "\n",
       "    .dataframe tbody tr th {\n",
       "        vertical-align: top;\n",
       "    }\n",
       "\n",
       "    .dataframe thead th {\n",
       "        text-align: right;\n",
       "    }\n",
       "</style>\n",
       "<table border=\"1\" class=\"dataframe\">\n",
       "  <thead>\n",
       "    <tr style=\"text-align: right;\">\n",
       "      <th></th>\n",
       "      <th>B</th>\n",
       "    </tr>\n",
       "  </thead>\n",
       "  <tbody>\n",
       "    <tr>\n",
       "      <th>0</th>\n",
       "      <td>1.0</td>\n",
       "    </tr>\n",
       "    <tr>\n",
       "      <th>1</th>\n",
       "      <td>2.0</td>\n",
       "    </tr>\n",
       "    <tr>\n",
       "      <th>2</th>\n",
       "      <td>NaN</td>\n",
       "    </tr>\n",
       "    <tr>\n",
       "      <th>3</th>\n",
       "      <td>4.0</td>\n",
       "    </tr>\n",
       "    <tr>\n",
       "      <th>4</th>\n",
       "      <td>NaN</td>\n",
       "    </tr>\n",
       "    <tr>\n",
       "      <th>5</th>\n",
       "      <td>6.0</td>\n",
       "    </tr>\n",
       "    <tr>\n",
       "      <th>6</th>\n",
       "      <td>7.0</td>\n",
       "    </tr>\n",
       "    <tr>\n",
       "      <th>7</th>\n",
       "      <td>8.0</td>\n",
       "    </tr>\n",
       "  </tbody>\n",
       "</table>\n",
       "</div>"
      ],
      "text/plain": [
       "     B\n",
       "0  1.0\n",
       "1  2.0\n",
       "2  NaN\n",
       "3  4.0\n",
       "4  NaN\n",
       "5  6.0\n",
       "6  7.0\n",
       "7  8.0"
      ]
     },
     "execution_count": 10,
     "metadata": {},
     "output_type": "execute_result"
    }
   ],
   "source": [
    "# 待填充特征\n",
    "df[['B']]"
   ]
  },
  {
   "cell_type": "code",
   "execution_count": 11,
   "metadata": {
    "ExecuteTime": {
     "end_time": "2020-12-13T17:09:51.634315Z",
     "start_time": "2020-12-13T17:09:51.610345Z"
    }
   },
   "outputs": [
    {
     "name": "stdout",
     "output_type": "stream",
     "text": [
      "均值：\n",
      " [[1.        ]\n",
      " [2.        ]\n",
      " [4.66666667]\n",
      " [4.        ]\n",
      " [4.66666667]\n",
      " [6.        ]\n",
      " [7.        ]\n",
      " [8.        ]]\n",
      "中位数：\n",
      " [[1.]\n",
      " [2.]\n",
      " [5.]\n",
      " [4.]\n",
      " [5.]\n",
      " [6.]\n",
      " [7.]\n",
      " [8.]]\n",
      "众数：\n",
      " [[1.]\n",
      " [2.]\n",
      " [1.]\n",
      " [4.]\n",
      " [1.]\n",
      " [6.]\n",
      " [7.]\n",
      " [8.]]\n"
     ]
    }
   ],
   "source": [
    "df_mean= imp_mean.fit_transform(df[['B']])\n",
    "print('均值：\\n',df_mean)\n",
    "df_median = imp_median.fit_transform(df[['B']])\n",
    "print('中位数：\\n',df_median)\n",
    "df_most = imp_most.fit_transform(df[['B']])\n",
    "print('众数：\\n',df_most)  # 这里每个数只出现了一次，填充了第一个"
   ]
  },
  {
   "cell_type": "markdown",
   "metadata": {},
   "source": [
    "#### e. 拟合插值\n",
    "- 随机森林\n",
    "- 线性回归\n",
    "- K近邻\n",
    "- 等机器学习回归算法"
   ]
  },
  {
   "cell_type": "markdown",
   "metadata": {},
   "source": [
    "#### 以随机森林和KNN为例\n",
    "#### (1) 随机森林插值填充"
   ]
  },
  {
   "cell_type": "code",
   "execution_count": 12,
   "metadata": {
    "ExecuteTime": {
     "end_time": "2020-12-13T17:11:50.414456Z",
     "start_time": "2020-12-13T17:11:50.401817Z"
    }
   },
   "outputs": [
    {
     "data": {
      "text/html": [
       "<div>\n",
       "<style scoped>\n",
       "    .dataframe tbody tr th:only-of-type {\n",
       "        vertical-align: middle;\n",
       "    }\n",
       "\n",
       "    .dataframe tbody tr th {\n",
       "        vertical-align: top;\n",
       "    }\n",
       "\n",
       "    .dataframe thead th {\n",
       "        text-align: right;\n",
       "    }\n",
       "</style>\n",
       "<table border=\"1\" class=\"dataframe\">\n",
       "  <thead>\n",
       "    <tr style=\"text-align: right;\">\n",
       "      <th></th>\n",
       "      <th>A</th>\n",
       "      <th>B</th>\n",
       "      <th>C</th>\n",
       "    </tr>\n",
       "  </thead>\n",
       "  <tbody>\n",
       "    <tr>\n",
       "      <th>0</th>\n",
       "      <td>1</td>\n",
       "      <td>1</td>\n",
       "      <td>1.0</td>\n",
       "    </tr>\n",
       "    <tr>\n",
       "      <th>1</th>\n",
       "      <td>2</td>\n",
       "      <td>4</td>\n",
       "      <td>2.0</td>\n",
       "    </tr>\n",
       "    <tr>\n",
       "      <th>2</th>\n",
       "      <td>3</td>\n",
       "      <td>9</td>\n",
       "      <td>NaN</td>\n",
       "    </tr>\n",
       "    <tr>\n",
       "      <th>3</th>\n",
       "      <td>4</td>\n",
       "      <td>16</td>\n",
       "      <td>4.0</td>\n",
       "    </tr>\n",
       "    <tr>\n",
       "      <th>4</th>\n",
       "      <td>5</td>\n",
       "      <td>25</td>\n",
       "      <td>NaN</td>\n",
       "    </tr>\n",
       "    <tr>\n",
       "      <th>5</th>\n",
       "      <td>6</td>\n",
       "      <td>36</td>\n",
       "      <td>6.0</td>\n",
       "    </tr>\n",
       "    <tr>\n",
       "      <th>6</th>\n",
       "      <td>7</td>\n",
       "      <td>49</td>\n",
       "      <td>7.0</td>\n",
       "    </tr>\n",
       "    <tr>\n",
       "      <th>7</th>\n",
       "      <td>8</td>\n",
       "      <td>64</td>\n",
       "      <td>8.0</td>\n",
       "    </tr>\n",
       "  </tbody>\n",
       "</table>\n",
       "</div>"
      ],
      "text/plain": [
       "   A   B    C\n",
       "0  1   1  1.0\n",
       "1  2   4  2.0\n",
       "2  3   9  NaN\n",
       "3  4  16  4.0\n",
       "4  5  25  NaN\n",
       "5  6  36  6.0\n",
       "6  7  49  7.0\n",
       "7  8  64  8.0"
      ]
     },
     "execution_count": 12,
     "metadata": {},
     "output_type": "execute_result"
    }
   ],
   "source": [
    "df = pd.DataFrame({'A':[1,2,3,4,5,6,7,8],'B':list(map(lambda x : x**2 ,[1,2,3,4,5,6,7,8])),'C':[1,2,np.nan,4,np.nan,6,7,8]})\n",
    "df"
   ]
  },
  {
   "cell_type": "code",
   "execution_count": 13,
   "metadata": {
    "ExecuteTime": {
     "end_time": "2020-12-13T17:12:09.272644Z",
     "start_time": "2020-12-13T17:12:09.207816Z"
    }
   },
   "outputs": [],
   "source": [
    "from sklearn.ensemble import RandomForestRegressor\n",
    "def set_missing_C(df_):\n",
    "\n",
    "    # 把已有的数值型特征取出来丢进Random Forest Regressor中\n",
    "    # 假装本来有很多列吧\n",
    "    df = df_[['A','B','C']] \n",
    "\n",
    "    known = df[df.C.notnull()].values\n",
    "    unknown= df[df.C.isnull()].values\n",
    "\n",
    "    # y即目标特征\n",
    "    y = known[:,2]\n",
    "\n",
    "    # X即特征属性值\n",
    "    X = known[:,:2]\n",
    "\n",
    "    # fit到RandomForestRegressor之中\n",
    "    rfr = RandomForestRegressor(random_state=0, n_estimators=2000, n_jobs=-1)\n",
    "    rfr.fit(X, y)\n",
    "\n",
    "    # 用得到的模型进行未知结果预测\n",
    "    predicted = rfr.predict(unknown[:,:2])\n",
    "\n",
    "    # 用得到的预测结果填补原缺失数据\n",
    "    df.loc[(df.C.isnull()), 'C' ] = predicted \n",
    "    return df, rfr"
   ]
  },
  {
   "cell_type": "code",
   "execution_count": 14,
   "metadata": {
    "ExecuteTime": {
     "end_time": "2020-12-13T17:12:18.970595Z",
     "start_time": "2020-12-13T17:12:16.064028Z"
    }
   },
   "outputs": [
    {
     "data": {
      "text/plain": [
       "(   A   B       C\n",
       " 0  1   1  1.0000\n",
       " 1  2   4  2.0000\n",
       " 2  3   9  2.4445\n",
       " 3  4  16  4.0000\n",
       " 4  5  25  4.4925\n",
       " 5  6  36  6.0000\n",
       " 6  7  49  7.0000\n",
       " 7  8  64  8.0000,\n",
       " RandomForestRegressor(n_estimators=2000, n_jobs=-1, random_state=0))"
      ]
     },
     "execution_count": 14,
     "metadata": {},
     "output_type": "execute_result"
    }
   ],
   "source": [
    "set_missing_C(df)"
   ]
  },
  {
   "cell_type": "markdown",
   "metadata": {},
   "source": [
    "#### (2) KNN插值填充\n",
    "通过欧几里德距离矩阵寻找最近邻，帮助估算观测中出现的缺失值。"
   ]
  },
  {
   "cell_type": "code",
   "execution_count": 15,
   "metadata": {
    "ExecuteTime": {
     "end_time": "2020-12-13T17:12:51.106240Z",
     "start_time": "2020-12-13T17:12:51.091852Z"
    }
   },
   "outputs": [
    {
     "data": {
      "text/html": [
       "<div>\n",
       "<style scoped>\n",
       "    .dataframe tbody tr th:only-of-type {\n",
       "        vertical-align: middle;\n",
       "    }\n",
       "\n",
       "    .dataframe tbody tr th {\n",
       "        vertical-align: top;\n",
       "    }\n",
       "\n",
       "    .dataframe thead th {\n",
       "        text-align: right;\n",
       "    }\n",
       "</style>\n",
       "<table border=\"1\" class=\"dataframe\">\n",
       "  <thead>\n",
       "    <tr style=\"text-align: right;\">\n",
       "      <th></th>\n",
       "      <th>A</th>\n",
       "      <th>B</th>\n",
       "      <th>C</th>\n",
       "    </tr>\n",
       "  </thead>\n",
       "  <tbody>\n",
       "    <tr>\n",
       "      <th>0</th>\n",
       "      <td>1</td>\n",
       "      <td>1</td>\n",
       "      <td>1.0</td>\n",
       "    </tr>\n",
       "    <tr>\n",
       "      <th>1</th>\n",
       "      <td>2</td>\n",
       "      <td>4</td>\n",
       "      <td>2.0</td>\n",
       "    </tr>\n",
       "    <tr>\n",
       "      <th>2</th>\n",
       "      <td>3</td>\n",
       "      <td>9</td>\n",
       "      <td>NaN</td>\n",
       "    </tr>\n",
       "    <tr>\n",
       "      <th>3</th>\n",
       "      <td>4</td>\n",
       "      <td>16</td>\n",
       "      <td>4.0</td>\n",
       "    </tr>\n",
       "    <tr>\n",
       "      <th>4</th>\n",
       "      <td>5</td>\n",
       "      <td>25</td>\n",
       "      <td>NaN</td>\n",
       "    </tr>\n",
       "    <tr>\n",
       "      <th>5</th>\n",
       "      <td>6</td>\n",
       "      <td>36</td>\n",
       "      <td>6.0</td>\n",
       "    </tr>\n",
       "    <tr>\n",
       "      <th>6</th>\n",
       "      <td>7</td>\n",
       "      <td>49</td>\n",
       "      <td>7.0</td>\n",
       "    </tr>\n",
       "    <tr>\n",
       "      <th>7</th>\n",
       "      <td>8</td>\n",
       "      <td>64</td>\n",
       "      <td>8.0</td>\n",
       "    </tr>\n",
       "  </tbody>\n",
       "</table>\n",
       "</div>"
      ],
      "text/plain": [
       "   A   B    C\n",
       "0  1   1  1.0\n",
       "1  2   4  2.0\n",
       "2  3   9  NaN\n",
       "3  4  16  4.0\n",
       "4  5  25  NaN\n",
       "5  6  36  6.0\n",
       "6  7  49  7.0\n",
       "7  8  64  8.0"
      ]
     },
     "execution_count": 15,
     "metadata": {},
     "output_type": "execute_result"
    }
   ],
   "source": [
    "from sklearn.impute import KNNImputer\n",
    "df"
   ]
  },
  {
   "cell_type": "code",
   "execution_count": 16,
   "metadata": {
    "ExecuteTime": {
     "end_time": "2020-12-13T17:13:04.925412Z",
     "start_time": "2020-12-13T17:13:04.897387Z"
    }
   },
   "outputs": [
    {
     "data": {
      "text/plain": [
       "array([[ 1.,  1.,  1.],\n",
       "       [ 2.,  4.,  2.],\n",
       "       [ 3.,  9.,  2.],\n",
       "       [ 4., 16.,  4.],\n",
       "       [ 5., 25.,  4.],\n",
       "       [ 6., 36.,  6.],\n",
       "       [ 7., 49.,  7.],\n",
       "       [ 8., 64.,  8.]])"
      ]
     },
     "execution_count": 16,
     "metadata": {},
     "output_type": "execute_result"
    }
   ],
   "source": [
    "imp_KNN = KNNImputer(n_neighbors=1)\n",
    "imp_KNN.fit_transform(df)"
   ]
  },
  {
   "cell_type": "code",
   "execution_count": 17,
   "metadata": {
    "ExecuteTime": {
     "end_time": "2020-12-13T17:13:12.538699Z",
     "start_time": "2020-12-13T17:13:12.524222Z"
    }
   },
   "outputs": [
    {
     "data": {
      "text/plain": [
       "array([[ 1.,  1.,  1.],\n",
       "       [ 2.,  4.,  2.],\n",
       "       [ 3.,  9.,  3.],\n",
       "       [ 4., 16.,  4.],\n",
       "       [ 5., 25.,  5.],\n",
       "       [ 6., 36.,  6.],\n",
       "       [ 7., 49.,  7.],\n",
       "       [ 8., 64.,  8.]])"
      ]
     },
     "execution_count": 17,
     "metadata": {},
     "output_type": "execute_result"
    }
   ],
   "source": [
    "imp_KNN = KNNImputer(n_neighbors=2)# 这里正好是上下两个邻居的均值，恰好是3和5，注意连起来仅仅是巧合\n",
    "imp_KNN.fit_transform(df)"
   ]
  },
  {
   "cell_type": "code",
   "execution_count": 18,
   "metadata": {
    "ExecuteTime": {
     "end_time": "2020-12-13T17:13:22.897064Z",
     "start_time": "2020-12-13T17:13:22.879088Z"
    }
   },
   "outputs": [
    {
     "data": {
      "text/plain": [
       "array([[ 1.        ,  1.        ,  1.        ],\n",
       "       [ 2.        ,  4.        ,  2.        ],\n",
       "       [ 3.        ,  9.        ,  2.33333333],\n",
       "       [ 4.        , 16.        ,  4.        ],\n",
       "       [ 5.        , 25.        ,  4.        ],\n",
       "       [ 6.        , 36.        ,  6.        ],\n",
       "       [ 7.        , 49.        ,  7.        ],\n",
       "       [ 8.        , 64.        ,  8.        ]])"
      ]
     },
     "execution_count": 18,
     "metadata": {},
     "output_type": "execute_result"
    }
   ],
   "source": [
    "imp_KNN = KNNImputer(n_neighbors=3)\n",
    "# (1+2+4)/3和(2+4+6)/3\n",
    "imp_KNN.fit_transform(df)"
   ]
  },
  {
   "cell_type": "markdown",
   "metadata": {},
   "source": [
    "## 4. reference\n",
    "\n",
    "- 缺失值的四种处理方法 :https://bbs.pinggu.org/thread-3027700-1-1.html\n",
    "- python缺失值填充的几种方法 :https://blog.csdn.net/vivian_ll/article/details/91900323\n",
    "- Python数据分析基础-数据缺失值处理：https://mp.weixin.qq.com/s?__biz=MzUzODYwMDAzNA==&mid=2247484441&idx=1&sn=0bfd745b551636c7d8776c2f98b64769&chksm=fad47314cda3fa028f73d22eb1f0c0f181af3516af3c796277e8564ab7871b921aac1b75fb77&scene=21#wechat_redirect\n",
    "- sklearn 文档：http://scikitlearn.com.cn/0.21.3/41/#542\n",
    "- KNNImputer,一种可靠的缺失值插补方法 : https://www.cnblogs.com/panchuangai/p/13390354.html\n",
    "- 机器学习中处理缺失值的7种方法 : https://blog.csdn.net/lrzh0123/article/details/110530837?utm_medium=distribute.pc_relevant.none-task-blog-baidulandingword-3&spm=1001.2101.3001.4242"
   ]
  },
  {
   "cell_type": "code",
   "execution_count": null,
   "metadata": {},
   "outputs": [],
   "source": []
  }
 ],
 "metadata": {
  "kernelspec": {
   "display_name": "Python 3",
   "language": "python",
   "name": "python3"
  },
  "language_info": {
   "codemirror_mode": {
    "name": "ipython",
    "version": 3
   },
   "file_extension": ".py",
   "mimetype": "text/x-python",
   "name": "python",
   "nbconvert_exporter": "python",
   "pygments_lexer": "ipython3",
   "version": "3.8.6"
  },
  "toc": {
   "base_numbering": 1,
   "nav_menu": {},
   "number_sections": false,
   "sideBar": true,
   "skip_h1_title": false,
   "title_cell": "Table of Contents",
   "title_sidebar": "Contents",
   "toc_cell": false,
   "toc_position": {
    "height": "calc(100% - 180px)",
    "left": "10px",
    "top": "150px",
    "width": "256px"
   },
   "toc_section_display": true,
   "toc_window_display": true
  }
 },
 "nbformat": 4,
 "nbformat_minor": 2
}
