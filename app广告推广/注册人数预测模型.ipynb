{
 "cells": [
  {
   "cell_type": "code",
   "execution_count": 1,
   "metadata": {
    "ExecuteTime": {
     "end_time": "2021-01-14T08:58:29.866900Z",
     "start_time": "2021-01-14T08:58:25.559088Z"
    }
   },
   "outputs": [],
   "source": [
    "import pandas as pd\n",
    "import numpy as np\n",
    "# from sklearn.preprocessing import OneHotEncoder\n",
    "from sklearn.linear_model import LinearRegression as LR\n",
    "# from sklearn.ensemble import RandomForestRegressor as RFR\n",
    "# from sklearn.model_selection import train_test_split,cross_val_score"
   ]
  },
  {
   "cell_type": "code",
   "execution_count": 2,
   "metadata": {
    "ExecuteTime": {
     "end_time": "2021-01-14T09:02:02.278154Z",
     "start_time": "2021-01-14T08:58:29.877862Z"
    }
   },
   "outputs": [],
   "source": [
    "df = pd.read_excel('./数据一组方案.xlsx',sheet_name='渠道')"
   ]
  },
  {
   "cell_type": "code",
   "execution_count": 3,
   "metadata": {
    "ExecuteTime": {
     "end_time": "2021-01-14T09:02:02.323048Z",
     "start_time": "2021-01-14T09:02:02.288127Z"
    }
   },
   "outputs": [
    {
     "data": {
      "text/plain": [
       "Index(['渠道', '日期', '点击', '下载', '注册', '下载→注册', '花费', '人均成本'], dtype='object')"
      ]
     },
     "execution_count": 3,
     "metadata": {},
     "output_type": "execute_result"
    }
   ],
   "source": [
    "df.columns"
   ]
  },
  {
   "cell_type": "code",
   "execution_count": 4,
   "metadata": {
    "ExecuteTime": {
     "end_time": "2021-01-14T09:02:02.389864Z",
     "start_time": "2021-01-14T09:02:02.336000Z"
    }
   },
   "outputs": [],
   "source": [
    "df_prepare = df.drop(['日期', '点击', '下载', '下载→注册','人均成本'],axis=1)\n",
    "df.groupby(by='渠道').mean()\n",
    "X = df_prepare[['渠道','花费','注册']]"
   ]
  },
  {
   "cell_type": "code",
   "execution_count": 5,
   "metadata": {
    "ExecuteTime": {
     "end_time": "2021-01-14T09:02:02.528203Z",
     "start_time": "2021-01-14T09:02:02.410931Z"
    }
   },
   "outputs": [
    {
     "name": "stdout",
     "output_type": "stream",
     "text": [
      "       渠道         花费   注册\n",
      "1825  iOS  640.29420  420\n",
      "1826  iOS  660.20212  422\n",
      "1827  iOS  682.65200  425\n",
      "1828  iOS  684.71610  422\n",
      "1829  iOS  728.50699  449\n",
      "      渠道        花费  注册\n",
      "2555  抖音  365.9740  20\n",
      "2556  抖音  433.8960  24\n",
      "2557  抖音  472.4252  26\n",
      "2558  抖音  528.1277  29\n",
      "2559  抖音  544.9530  30\n",
      "   渠道         花费  注册\n",
      "0  小米   830.0952  66\n",
      "1  小米   936.6698  74\n",
      "2  小米  1019.0447  79\n",
      "3  小米   799.7566  62\n",
      "4  小米   926.7580  70\n"
     ]
    }
   ],
   "source": [
    "## 根据人均注册成本，样本划分为三箱\n",
    "df_ios = X.query('渠道==\"iOS\"')\n",
    "df_baidu_douyin = X.query('渠道==\"抖音\" or 渠道==\"百度移动\" or 渠道==\"百度pc\"')\n",
    "df_other = X.query('渠道!=\"抖音\" and 渠道!=\"百度移动\" and 渠道!=\"百度pc\" and 渠道!=\"iOS\"')\n",
    "\n",
    "print(df_ios.head())\n",
    "print(df_baidu_douyin.head())\n",
    "print(df_other.head())"
   ]
  },
  {
   "cell_type": "code",
   "execution_count": 6,
   "metadata": {
    "ExecuteTime": {
     "end_time": "2021-01-14T09:02:02.560300Z",
     "start_time": "2021-01-14T09:02:02.533189Z"
    }
   },
   "outputs": [],
   "source": [
    "## 渠道转数值型数据\n",
    "dummies_baidu_douyin = pd.get_dummies(df_baidu_douyin.渠道)\n",
    "dummies_other = pd.get_dummies(df_other.渠道)\n",
    "dummy_ios = pd.get_dummies(df_ios.渠道)"
   ]
  },
  {
   "cell_type": "code",
   "execution_count": 7,
   "metadata": {
    "ExecuteTime": {
     "end_time": "2021-01-14T09:02:02.591218Z",
     "start_time": "2021-01-14T09:02:02.568287Z"
    }
   },
   "outputs": [],
   "source": [
    "## 将2019-01-01——2019-12-31 写成 1——365 以便于建立模型\n",
    "from numpy import array\n",
    "time_ios = np.arange(1,366,1)\n",
    "time_3 = array([time_ios,time_ios,time_ios]).flatten()\n",
    "time_6= array([time_3,time_3]).flatten()\n",
    "dummy_ios['date'] = time_ios\n",
    "dummies_baidu_douyin['date']= time_3\n",
    "dummies_other['date'] = time_6"
   ]
  },
  {
   "cell_type": "code",
   "execution_count": 8,
   "metadata": {
    "ExecuteTime": {
     "end_time": "2021-01-14T09:02:02.637432Z",
     "start_time": "2021-01-14T09:02:02.602189Z"
    }
   },
   "outputs": [],
   "source": [
    "X_baidu_douyin = pd.concat([df_baidu_douyin[['花费']],dummies_baidu_douyin],axis=1)\n",
    "X_other = pd.concat([df_other[['花费']],dummies_other],axis=1)\n",
    "X_ios = pd.concat([df_ios[[\"花费\"]],dummy_ios],axis=1)"
   ]
  },
  {
   "cell_type": "code",
   "execution_count": 9,
   "metadata": {
    "ExecuteTime": {
     "end_time": "2021-01-14T09:02:02.699273Z",
     "start_time": "2021-01-14T09:02:02.644419Z"
    }
   },
   "outputs": [
    {
     "name": "stdout",
     "output_type": "stream",
     "text": [
      "             花费  iOS  date\n",
      "1825  640.29420    1     1\n",
      "1826  660.20212    1     2\n",
      "1827  682.65200    1     3\n",
      "1828  684.71610    1     4\n",
      "1829  728.50699    1     5\n",
      "            花费  抖音  百度pc  百度移动  date\n",
      "2555  365.9740   1     0     0     1\n",
      "2556  433.8960   1     0     0     2\n",
      "2557  472.4252   1     0     0     3\n",
      "2558  528.1277   1     0     0     4\n",
      "2559  544.9530   1     0     0     5\n",
      "          花费  oppo  vivo  华为  小米  快手  魅族  date\n",
      "0   830.0952     0     0   0   1   0   0     1\n",
      "1   936.6698     0     0   0   1   0   0     2\n",
      "2  1019.0447     0     0   0   1   0   0     3\n",
      "3   799.7566     0     0   0   1   0   0     4\n",
      "4   926.7580     0     0   0   1   0   0     5\n"
     ]
    }
   ],
   "source": [
    "print(X_ios.head())\n",
    "print(X_baidu_douyin.head())\n",
    "print(X_other.head())"
   ]
  },
  {
   "cell_type": "code",
   "execution_count": 10,
   "metadata": {
    "ExecuteTime": {
     "end_time": "2021-01-14T09:02:02.715264Z",
     "start_time": "2021-01-14T09:02:02.705258Z"
    }
   },
   "outputs": [],
   "source": [
    "y_ios = df_ios.注册\n",
    "y_baidu_douyin = df_baidu_douyin.注册\n",
    "y_other = df_other.注册"
   ]
  },
  {
   "cell_type": "code",
   "execution_count": 11,
   "metadata": {
    "ExecuteTime": {
     "end_time": "2021-01-14T09:02:02.809037Z",
     "start_time": "2021-01-14T09:02:02.728239Z"
    }
   },
   "outputs": [],
   "source": [
    "## ios\n",
    "y_ios_time = y_ios \n",
    "## douyin_baidu\n",
    "y_douyin_time = df_baidu_douyin.query('渠道==\"抖音\"').注册\n",
    "y_baidupc_time = df_baidu_douyin.query('渠道==\"百度pc\"').注册\n",
    "y_baidumobile_time = df_baidu_douyin.query('渠道==\"百度移动\"').注册\n",
    "## other\n",
    "y_oppo_time = df_other.query('渠道==\"oppo\"').注册\n",
    "y_vivo_time = df_other.query('渠道==\"vivo\"').注册\n",
    "y_hw_time = df_other.query('渠道==\"华为\"').注册\n",
    "y_mi_time = df_other.query('渠道==\"小米\"').注册\n",
    "y_kuai_time = df_other.query('渠道==\"快手\"').注册\n",
    "y_meizu_time = df_other.query('渠道==\"魅族\"').注册"
   ]
  },
  {
   "cell_type": "code",
   "execution_count": 12,
   "metadata": {
    "ExecuteTime": {
     "end_time": "2021-01-14T09:02:02.903873Z",
     "start_time": "2021-01-14T09:02:02.816061Z"
    }
   },
   "outputs": [
    {
     "name": "stdout",
     "output_type": "stream",
     "text": [
      "ios: 0.9072365466991168\n",
      "douyin: 0.8436889418708342\n",
      "baidupc: 0.6099256283575808\n",
      "baidumobile: 0.7290388504668446\n",
      "oppo: 0.9619167233904851\n",
      "vivo: 0.8998802844401323\n",
      "huawei: 0.886526732281549\n",
      "mi: 0.8627659060454727\n",
      "kuai: 0.9115852819474795\n",
      "meizu: 0.6219259536058868\n"
     ]
    }
   ],
   "source": [
    "## ios\n",
    "lr_ios_time = LR()\n",
    "lr_ios_time.fit(time_ios.reshape(-1,1),y_ios_time)\n",
    "## 抖音\n",
    "lr_douyin_time = LR()\n",
    "lr_douyin_time.fit(time_ios.reshape(-1,1),y_douyin_time)\n",
    "## 百度PC\n",
    "lr_baidupc_time = LR()\n",
    "lr_baidupc_time.fit(time_ios.reshape(-1,1),y_baidupc_time)\n",
    "## 百度移动\n",
    "lr_baidumobile_time = LR()\n",
    "lr_baidumobile_time.fit(time_ios.reshape(-1,1),y_baidumobile_time)\n",
    "## oppo\n",
    "lr_oppo_time = LR()\n",
    "lr_oppo_time.fit(time_ios.reshape(-1,1),y_oppo_time)\n",
    "## vivo\n",
    "lr_vivo_time = LR()\n",
    "lr_vivo_time.fit(time_ios.reshape(-1,1),y_vivo_time)\n",
    "## 华为\n",
    "lr_hw_time = LR()\n",
    "lr_hw_time.fit(time_ios.reshape(-1,1),y_hw_time)\n",
    "## 小米\n",
    "lr_mi_time = LR()\n",
    "lr_mi_time.fit(time_ios.reshape(-1,1),y_mi_time)\n",
    "## 快手\n",
    "lr_kuai_time = LR()\n",
    "lr_kuai_time.fit(time_ios.reshape(-1,1),y_kuai_time)\n",
    "## 魅族\n",
    "lr_meizu_time = LR()\n",
    "lr_meizu_time.fit(time_ios.reshape(-1,1),y_meizu_time)\n",
    "\n",
    "print('ios:',lr_ios_time.score(time_ios.reshape(-1,1),y_ios))\n",
    "print('douyin:',lr_douyin_time.score(time_ios.reshape(-1,1),y_douyin_time))\n",
    "print('baidupc:',lr_baidupc_time.score(time_ios.reshape(-1,1),y_baidupc_time))\n",
    "print('baidumobile:',lr_baidumobile_time.score(time_ios.reshape(-1,1),y_baidumobile_time))\n",
    "print('oppo:',lr_oppo_time.score(time_ios.reshape(-1,1),y_oppo_time))\n",
    "print('vivo:',lr_vivo_time.score(time_ios.reshape(-1,1),y_vivo_time))\n",
    "print('huawei:',lr_hw_time.score(time_ios.reshape(-1,1),y_hw_time))\n",
    "print('mi:',lr_mi_time.score(time_ios.reshape(-1,1),y_mi_time))\n",
    "print('kuai:',lr_kuai_time.score(time_ios.reshape(-1,1),y_kuai_time))\n",
    "print('meizu:',lr_meizu_time.score(time_ios.reshape(-1,1),y_meizu_time))"
   ]
  },
  {
   "cell_type": "code",
   "execution_count": 13,
   "metadata": {
    "ExecuteTime": {
     "end_time": "2021-01-14T09:02:02.951309Z",
     "start_time": "2021-01-14T09:02:02.910851Z"
    }
   },
   "outputs": [
    {
     "name": "stdout",
     "output_type": "stream",
     "text": [
      "预测双11未增投时注册量:\n",
      "ios: [2487.11022968]\n",
      "抖音: [252.00173189]\n",
      "百度pc: [38.69853192]\n",
      "百度移动: [531.48864058]\n",
      "oppo: [1149.89732073]\n",
      "vivo: [1132.94060801]\n",
      "华为: [1545.56919375]\n",
      "小米: [557.17209685]\n",
      "快手: [357.45935004]\n",
      "魅族: [76.23713955]\n"
     ]
    }
   ],
   "source": [
    "## 预测双11未增投时注册量\n",
    "print('预测双11未增投时注册量:')\n",
    "print('ios:',lr_ios_time.predict([[675]]))\n",
    "print('抖音:',lr_douyin_time.predict([[675]]))\n",
    "print('百度pc:',lr_baidupc_time.predict([[675]]))\n",
    "print('百度移动:',lr_baidumobile_time.predict([[675]]))\n",
    "print('oppo:',lr_oppo_time.predict([[675]]))\n",
    "print('vivo:',lr_vivo_time.predict([[675]]))\n",
    "print('华为:',lr_hw_time.predict([[675]]))\n",
    "print('小米:',lr_mi_time.predict([[675]]))\n",
    "print('快手:',lr_kuai_time.predict([[675]]))\n",
    "print('魅族:',lr_meizu_time.predict([[675]]))"
   ]
  },
  {
   "cell_type": "code",
   "execution_count": 14,
   "metadata": {
    "ExecuteTime": {
     "end_time": "2021-01-14T09:02:02.997704Z",
     "start_time": "2021-01-14T09:02:02.955299Z"
    }
   },
   "outputs": [],
   "source": [
    "## 计算10%增长和15增长后的注册数\n",
    "ios_10 = lr_ios_time.predict([[675]])*1.1\n",
    "douyin_10 = lr_douyin_time.predict([[675]])*1.1\n",
    "baidupc_10 = lr_baidupc_time.predict([[675]])*1.1\n",
    "baidumobile_10 = lr_baidumobile_time.predict([[675]])*1.1\n",
    "oppo_10 = lr_oppo_time.predict([[675]])*1.1\n",
    "vivo_10 = lr_vivo_time.predict([[675]])*1.1\n",
    "hw_10 = lr_hw_time.predict([[675]])*1.1\n",
    "mi_10 = lr_mi_time.predict([[675]])*1.1\n",
    "kuai_10 = lr_kuai_time.predict([[675]])*1.1\n",
    "meizu_10 = lr_meizu_time.predict([[675]])*1.1\n",
    "\n",
    "ios_15 = lr_ios_time.predict([[675]])*1.15\n",
    "douyin_15 = lr_douyin_time.predict([[675]])*1.15\n",
    "baidupc_15 = lr_baidupc_time.predict([[675]])*1.15\n",
    "baidumobile_15 = lr_baidumobile_time.predict([[675]])*1.15\n",
    "oppo_15 = lr_oppo_time.predict([[675]])*1.15\n",
    "vivo_15 = lr_vivo_time.predict([[675]])*1.15\n",
    "hw_15 = lr_hw_time.predict([[675]])*1.15\n",
    "mi_15 = lr_mi_time.predict([[675]])*1.15\n",
    "kuai_15 = lr_kuai_time.predict([[675]])*1.15\n",
    "meizu_15 = lr_meizu_time.predict([[675]])*1.15\n"
   ]
  },
  {
   "cell_type": "code",
   "execution_count": 15,
   "metadata": {
    "ExecuteTime": {
     "end_time": "2021-01-14T09:02:03.074498Z",
     "start_time": "2021-01-14T09:02:03.008673Z"
    }
   },
   "outputs": [
    {
     "name": "stdout",
     "output_type": "stream",
     "text": [
      "0.9650885918336864\n",
      "0.9981416087403896\n",
      "0.9941149627121019\n"
     ]
    }
   ],
   "source": [
    "## 时间，花费，渠道 —— 预测注册\n",
    "lr_ios_regist = LR()\n",
    "lr_ios_regist.fit(X_ios,y_ios)\n",
    "lr_douyinbaidu_regist = LR()\n",
    "lr_douyinbaidu_regist.fit(X_baidu_douyin,y_baidu_douyin)\n",
    "lr_other_regist = LR()\n",
    "lr_other_regist.fit(X_other,y_other)\n",
    "\n",
    "print(lr_ios_regist.score(X_ios,y_ios))\n",
    "print(lr_douyinbaidu_regist.score(X_baidu_douyin,y_baidu_douyin))\n",
    "print(lr_other_regist.score(X_other,y_other))"
   ]
  },
  {
   "cell_type": "code",
   "execution_count": 16,
   "metadata": {
    "ExecuteTime": {
     "end_time": "2021-01-14T09:02:03.171244Z",
     "start_time": "2021-01-14T09:02:03.079484Z"
    }
   },
   "outputs": [
    {
     "name": "stdout",
     "output_type": "stream",
     "text": [
      "ios: 5900\n",
      "oppo: 15000\n",
      "vivo: 15500\n",
      "hw: 21000\n",
      "mi: 7400\n",
      "kuai: 4400\n",
      "douyin: 5600\n",
      "baidupc: 800\n",
      "baidumobile: 11900\n",
      "meizu: 800\n"
     ]
    }
   ],
   "source": [
    "## 增投10%\n",
    "## ios\n",
    "for i in range(4500,7000,100):\n",
    "    d = lr_ios_regist.predict([[i,1,675]])-ios_10\n",
    "    if d[0]>0:\n",
    "        print('ios:',i)\n",
    "        break\n",
    "## oppo\n",
    "for i in range(11000,17000,500):\n",
    "    d = lr_other_regist.predict([[i,1,0,0,0,0,0,675]])-oppo_10\n",
    "    if d[0]>0:\n",
    "        print('oppo:',i)\n",
    "        break\n",
    "## vivo\n",
    "for i in range(11000,19000,500):\n",
    "    d = lr_other_regist.predict([[i,0,1,0,0,0,0,675]])-vivo_10\n",
    "    if d[0]>0:\n",
    "        print('vivo:',i)\n",
    "        break\n",
    "## 华为\n",
    "for i in range(15000,25000,500):\n",
    "    d = lr_other_regist.predict([[i,0,0,1,0,0,0,675]])-hw_10\n",
    "    if d[0]>0:\n",
    "        print('hw:',i)\n",
    "        break\n",
    "## 小米\n",
    "for i in range(6000,12000,200):\n",
    "    d = lr_other_regist.predict([[i,0,0,0,1,0,0,675]])-mi_10\n",
    "    if d[0]>0:\n",
    "        print('mi:',i)\n",
    "        break\n",
    "## 快手\n",
    "for i in range(3500,8000,100):\n",
    "    d = lr_other_regist.predict([[i,0,0,0,0,1,0,675]])-kuai_10\n",
    "    if d[0]>0:\n",
    "        print('kuai:',i)\n",
    "        break\n",
    "## 抖音\n",
    "for i in range(4500,8000,100):\n",
    "    d = lr_douyinbaidu_regist.predict([[i,1,0,0,675]])-douyin_10\n",
    "    if d[0]>0:\n",
    "        print('douyin:',i)\n",
    "        break\n",
    "## 百度pc\n",
    "for i in range(800,3000,100):\n",
    "    d = lr_douyinbaidu_regist.predict([[i,0,0,1,675]])-baidupc_10\n",
    "    if d[0]>0:\n",
    "        print('baidupc:',i)\n",
    "        break\n",
    "## 百度移动\n",
    "for i in range(10000,15000,100):\n",
    "    d = lr_douyinbaidu_regist.predict([[i,0,1,0,675]])-baidumobile_10\n",
    "    if d[0]>0:\n",
    "        print('baidumobile:',i)\n",
    "        break\n",
    "## 魅族\n",
    "for i in range(800,1100,100):\n",
    "    d = lr_other_regist.predict([[i,0,0,0,0,0,1,675]])-meizu_10\n",
    "    if d[0]>0:\n",
    "        print('meizu:',i)\n",
    "        break"
   ]
  },
  {
   "cell_type": "code",
   "execution_count": 17,
   "metadata": {
    "ExecuteTime": {
     "end_time": "2021-01-14T09:02:03.245838Z",
     "start_time": "2021-01-14T09:02:03.180233Z"
    }
   },
   "outputs": [
    {
     "name": "stdout",
     "output_type": "stream",
     "text": [
      "ios: 6300\n",
      "oppo: 16000\n",
      "vivo: 16000\n",
      "hw: 22000\n",
      "mi: 7800\n",
      "kuai: 4600\n",
      "douyin: 5800\n",
      "baidupc: 800\n",
      "baidumobile: 12400\n",
      "meizu: 800\n"
     ]
    }
   ],
   "source": [
    "## 增投15%\n",
    "## ios\n",
    "for i in range(4500,7000,100):\n",
    "    d = lr_ios_regist.predict([[i,1,675]])-ios_15\n",
    "    if d[0]>0:\n",
    "        print('ios:',i)\n",
    "        break\n",
    "## oppo\n",
    "for i in range(11000,17000,500):\n",
    "    d = lr_other_regist.predict([[i,1,0,0,0,0,0,675]])-oppo_15\n",
    "    if d[0]>0:\n",
    "        print('oppo:',i)\n",
    "        break\n",
    "## vivo\n",
    "for i in range(11000,19000,500):\n",
    "    d = lr_other_regist.predict([[i,0,1,0,0,0,0,675]])-vivo_15\n",
    "    if d[0]>0:\n",
    "        print('vivo:',i)\n",
    "        break\n",
    "## 华为\n",
    "for i in range(15000,25000,500):\n",
    "    d = lr_other_regist.predict([[i,0,0,1,0,0,0,675]])-hw_15\n",
    "    if d[0]>0:\n",
    "        print('hw:',i)\n",
    "        break\n",
    "## 小米\n",
    "for i in range(6000,12000,200):\n",
    "    d = lr_other_regist.predict([[i,0,0,0,1,0,0,675]])-mi_15\n",
    "    if d[0]>0:\n",
    "        print('mi:',i)\n",
    "        break\n",
    "## 快手\n",
    "for i in range(3500,8000,100):\n",
    "    d = lr_other_regist.predict([[i,0,0,0,0,1,0,675]])-kuai_15\n",
    "    if d[0]>0:\n",
    "        print('kuai:',i)\n",
    "        break\n",
    "## 抖音\n",
    "for i in range(4500,8000,100):\n",
    "    d = lr_douyinbaidu_regist.predict([[i,1,0,0,675]])-douyin_15\n",
    "    if d[0]>0:\n",
    "        print('douyin:',i)\n",
    "        break\n",
    "## 百度pc\n",
    "for i in range(800,3000,100):\n",
    "    d = lr_douyinbaidu_regist.predict([[i,0,0,1,675]])-baidupc_15\n",
    "    if d[0]>0:\n",
    "        print('baidupc:',i)\n",
    "        break\n",
    "## 百度移动\n",
    "for i in range(10000,15000,100):\n",
    "    d = lr_douyinbaidu_regist.predict([[i,0,1,0,675]])-baidumobile_15\n",
    "    if d[0]>0:\n",
    "        print('baidumobile:',i)\n",
    "        break\n",
    "## 魅族\n",
    "for i in range(800,1100,100):\n",
    "    d = lr_other_regist.predict([[i,0,0,0,0,0,1,675]])-meizu_15\n",
    "    if d[0]>0:\n",
    "        print('meizu:',i)\n",
    "        break"
   ]
  },
  {
   "cell_type": "code",
   "execution_count": 18,
   "metadata": {
    "ExecuteTime": {
     "end_time": "2021-01-14T09:02:03.276059Z",
     "start_time": "2021-01-14T09:02:03.254012Z"
    }
   },
   "outputs": [],
   "source": [
    "#### 15%达不到，尝试12.5%"
   ]
  },
  {
   "cell_type": "code",
   "execution_count": 19,
   "metadata": {
    "ExecuteTime": {
     "end_time": "2021-01-14T09:02:03.292010Z",
     "start_time": "2021-01-14T09:02:03.280046Z"
    }
   },
   "outputs": [],
   "source": [
    "ios_125 = lr_ios_time.predict([[675]])*1.125\n",
    "douyin_125 = lr_douyin_time.predict([[675]])*1.125\n",
    "baidupc_125 = lr_baidupc_time.predict([[675]])*1.125\n",
    "baidumobile_125 = lr_baidumobile_time.predict([[675]])*1.125\n",
    "oppo_125 = lr_oppo_time.predict([[675]])*1.125\n",
    "vivo_125 = lr_vivo_time.predict([[675]])*1.125\n",
    "hw_125 = lr_hw_time.predict([[675]])*1.125\n",
    "mi_125 = lr_mi_time.predict([[675]])*1.125\n",
    "kuai_125 = lr_kuai_time.predict([[675]])*1.125\n",
    "meizu_125 = lr_meizu_time.predict([[675]])*1.125"
   ]
  },
  {
   "cell_type": "code",
   "execution_count": 20,
   "metadata": {
    "ExecuteTime": {
     "end_time": "2021-01-14T09:02:03.370800Z",
     "start_time": "2021-01-14T09:02:03.297011Z"
    }
   },
   "outputs": [
    {
     "name": "stdout",
     "output_type": "stream",
     "text": [
      "ios: 6100 元\n",
      "oppo: 15500 元\n",
      "vivo: 15500 元\n",
      "hw: 21500 元\n",
      "mi: 7600 元\n",
      "kuai: 4500 元\n",
      "douyin: 5700 元\n",
      "baidupc: 800 元\n",
      "baidumobile: 12200 元\n",
      "meizu: 800 元\n"
     ]
    }
   ],
   "source": [
    "## 增投12.5% 后\n",
    "## ios\n",
    "for i in range(4500,7000,100):\n",
    "    d = lr_ios_regist.predict([[i,1,675]])-ios_125\n",
    "    if d[0]>0:\n",
    "        print('ios:',i,'元')\n",
    "        break\n",
    "## oppo\n",
    "for i in range(11000,17000,500):\n",
    "    d = lr_other_regist.predict([[i,1,0,0,0,0,0,675]])-oppo_125\n",
    "    if d[0]>0:\n",
    "        print('oppo:',i,'元')\n",
    "        break\n",
    "## vivo\n",
    "for i in range(11000,19000,500):\n",
    "    d = lr_other_regist.predict([[i,0,1,0,0,0,0,675]])-vivo_125\n",
    "    if d[0]>0:\n",
    "        print('vivo:',i,'元')\n",
    "        break\n",
    "## 华为\n",
    "for i in range(15000,25000,500):\n",
    "    d = lr_other_regist.predict([[i,0,0,1,0,0,0,675]])-hw_125\n",
    "    if d[0]>0:\n",
    "        print('hw:',i,'元')\n",
    "        break\n",
    "## 小米\n",
    "for i in range(6000,12000,200):\n",
    "    d = lr_other_regist.predict([[i,0,0,0,1,0,0,675]])-mi_125\n",
    "    if d[0]>0:\n",
    "        print('mi:',i,'元')\n",
    "        break\n",
    "## 快手\n",
    "for i in range(3500,8000,100):\n",
    "    d = lr_other_regist.predict([[i,0,0,0,0,1,0,675]])-kuai_125\n",
    "    if d[0]>0:\n",
    "        print('kuai:',i,'元')\n",
    "        break\n",
    "## 抖音\n",
    "for i in range(4500,8000,100):\n",
    "    d = lr_douyinbaidu_regist.predict([[i,1,0,0,675]])-douyin_125\n",
    "    if d[0]>0:\n",
    "        print('douyin:',i,'元')\n",
    "        break\n",
    "## 百度pc\n",
    "for i in range(800,3000,100):\n",
    "    d = lr_douyinbaidu_regist.predict([[i,0,0,1,675]])-baidupc_125\n",
    "    if d[0]>0:\n",
    "        print('baidupc:',i,'元')\n",
    "        break\n",
    "## 百度移动\n",
    "for i in range(10000,15000,100):\n",
    "    d = lr_douyinbaidu_regist.predict([[i,0,1,0,675]])-baidumobile_125\n",
    "    if d[0]>0:\n",
    "        print('baidumobile:',i,'元')\n",
    "        break\n",
    "## 魅族\n",
    "for i in range(800,1100,100):\n",
    "    d = lr_other_regist.predict([[i,0,0,0,0,0,1,675]])-meizu_125\n",
    "    if d[0]>0:\n",
    "        print('meizu:',i,'元')\n",
    "        break"
   ]
  },
  {
   "cell_type": "code",
   "execution_count": null,
   "metadata": {},
   "outputs": [],
   "source": []
  }
 ],
 "metadata": {
  "hide_input": false,
  "kernelspec": {
   "display_name": "Python 3",
   "language": "python",
   "name": "python3"
  },
  "language_info": {
   "codemirror_mode": {
    "name": "ipython",
    "version": 3
   },
   "file_extension": ".py",
   "mimetype": "text/x-python",
   "name": "python",
   "nbconvert_exporter": "python",
   "pygments_lexer": "ipython3",
   "version": "3.8.6"
  },
  "latex_envs": {
   "LaTeX_envs_menu_present": true,
   "autoclose": false,
   "autocomplete": true,
   "bibliofile": "biblio.bib",
   "cite_by": "apalike",
   "current_citInitial": 1,
   "eqLabelWithNumbers": true,
   "eqNumInitial": 1,
   "hotkeys": {
    "equation": "Ctrl-E",
    "itemize": "Ctrl-I"
   },
   "labels_anchors": false,
   "latex_user_defs": false,
   "report_style_numbering": false,
   "user_envs_cfg": false
  },
  "toc": {
   "base_numbering": 1,
   "nav_menu": {},
   "number_sections": true,
   "sideBar": true,
   "skip_h1_title": false,
   "title_cell": "Table of Contents",
   "title_sidebar": "Contents",
   "toc_cell": false,
   "toc_position": {},
   "toc_section_display": true,
   "toc_window_display": false
  }
 },
 "nbformat": 4,
 "nbformat_minor": 4
}
